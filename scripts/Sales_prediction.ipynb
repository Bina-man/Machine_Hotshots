{
  "nbformat": 4,
  "nbformat_minor": 0,
  "metadata": {
    "colab": {
      "name": "Sales_prediction.ipynb",
      "provenance": []
    },
    "kernelspec": {
      "name": "python3",
      "display_name": "Python 3"
    }
  },
  "cells": [
    {
      "cell_type": "markdown",
      "metadata": {
        "id": "KB6TKsFwZZgC",
        "colab_type": "text"
      },
      "source": [
        "# **Pharmaceutical Sales prediction across multiple stores**"
      ]
    },
    {
      "cell_type": "markdown",
      "metadata": {
        "id": "p8xV0oPdYzga",
        "colab_type": "text"
      },
      "source": [
        "**Forecasting Sales is a essential use of Machine Learning(ML).Sales forecasts can be used to identify benchmarks and determine incremental impacts of new initiatives, plan resources in response to expected demand and project future budgets.**"
      ]
    },
    {
      "cell_type": "markdown",
      "metadata": {
        "id": "DMgVyFpBZy2Q",
        "colab_type": "text"
      },
      "source": [
        "## **Table of contents**\n",
        "     1. Exploring the data and Data Pre-processing\n",
        "     2. Building models with sklearn pipelines\n",
        "     3. Choose a loss function\n",
        "     4. Post Prediction analysis\n",
        "     5. Serialize models"
      ]
    },
    {
      "cell_type": "markdown",
      "metadata": {
        "id": "h_8mBZIScTDI",
        "colab_type": "text"
      },
      "source": [
        " ## **1. Data Preprocessing**"
      ]
    },
    {
      "cell_type": "markdown",
      "metadata": {
        "id": "cCD-eDgBck26",
        "colab_type": "text"
      },
      "source": [
        "  1.1 Importing Libraries"
      ]
    },
    {
      "cell_type": "code",
      "metadata": {
        "id": "uYSkzRZ6XjJ5",
        "colab_type": "code",
        "colab": {}
      },
      "source": [
        "import pandas as pd\n",
        "import seaborn as sns\n",
        "from sklearn.model_selection import train_test_split \n",
        "from sklearn.linear_model import LinearRegression\n",
        "from sklearn import preprocessing\n",
        "import numpy as np \n",
        "import matplotlib.pyplot as plt\n",
        "%matplotlib inline"
      ],
      "execution_count": 9,
      "outputs": []
    },
    {
      "cell_type": "code",
      "metadata": {
        "id": "ye1wJKoEXxEJ",
        "colab_type": "code",
        "colab": {}
      },
      "source": [
        "train_data=pd.read_csv('/content/drive/My Drive/Output.csv')"
      ],
      "execution_count": 10,
      "outputs": []
    },
    {
      "cell_type": "code",
      "metadata": {
        "id": "KboRAT1wbL-2",
        "colab_type": "code",
        "colab": {
          "base_uri": "https://localhost:8080/",
          "height": 231
        },
        "outputId": "619c408e-d917-4c7a-c0cf-0692292e3b31"
      },
      "source": [
        "train_data.head()"
      ],
      "execution_count": 11,
      "outputs": [
        {
          "output_type": "execute_result",
          "data": {
            "text/html": [
              "<div>\n",
              "<style scoped>\n",
              "    .dataframe tbody tr th:only-of-type {\n",
              "        vertical-align: middle;\n",
              "    }\n",
              "\n",
              "    .dataframe tbody tr th {\n",
              "        vertical-align: top;\n",
              "    }\n",
              "\n",
              "    .dataframe thead th {\n",
              "        text-align: right;\n",
              "    }\n",
              "</style>\n",
              "<table border=\"1\" class=\"dataframe\">\n",
              "  <thead>\n",
              "    <tr style=\"text-align: right;\">\n",
              "      <th></th>\n",
              "      <th>Weekdays</th>\n",
              "      <th>Weeks</th>\n",
              "      <th>Months</th>\n",
              "      <th>Store</th>\n",
              "      <th>DayOfWeek</th>\n",
              "      <th>Date</th>\n",
              "      <th>Sales</th>\n",
              "      <th>Customers</th>\n",
              "      <th>Open</th>\n",
              "      <th>Promo</th>\n",
              "      <th>StateHoliday</th>\n",
              "      <th>SchoolHoliday</th>\n",
              "      <th>Store-1</th>\n",
              "      <th>StoreType</th>\n",
              "      <th>Assortment</th>\n",
              "      <th>CompetitionDistance</th>\n",
              "      <th>CompetitionOpenSinceMonth</th>\n",
              "      <th>CompetitionOpenSinceYear</th>\n",
              "      <th>Promo2</th>\n",
              "      <th>Promo2SinceWeek</th>\n",
              "      <th>Promo2SinceYear</th>\n",
              "      <th>PromoInterval</th>\n",
              "    </tr>\n",
              "  </thead>\n",
              "  <tbody>\n",
              "    <tr>\n",
              "      <th>0</th>\n",
              "      <td>1</td>\n",
              "      <td>23</td>\n",
              "      <td>6</td>\n",
              "      <td>867</td>\n",
              "      <td>3</td>\n",
              "      <td>6/3/2015</td>\n",
              "      <td>5608</td>\n",
              "      <td>469</td>\n",
              "      <td>1</td>\n",
              "      <td>1</td>\n",
              "      <td>0.0</td>\n",
              "      <td>0</td>\n",
              "      <td>867</td>\n",
              "      <td>d</td>\n",
              "      <td>c</td>\n",
              "      <td>21810.0</td>\n",
              "      <td>9.0</td>\n",
              "      <td>2012.0</td>\n",
              "      <td>0</td>\n",
              "      <td>NaN</td>\n",
              "      <td>NaN</td>\n",
              "      <td>Jan,Apr,Jul,Oct</td>\n",
              "    </tr>\n",
              "    <tr>\n",
              "      <th>1</th>\n",
              "      <td>1</td>\n",
              "      <td>23</td>\n",
              "      <td>6</td>\n",
              "      <td>868</td>\n",
              "      <td>3</td>\n",
              "      <td>6/3/2015</td>\n",
              "      <td>13500</td>\n",
              "      <td>816</td>\n",
              "      <td>1</td>\n",
              "      <td>1</td>\n",
              "      <td>0.0</td>\n",
              "      <td>0</td>\n",
              "      <td>868</td>\n",
              "      <td>d</td>\n",
              "      <td>c</td>\n",
              "      <td>1360.0</td>\n",
              "      <td>8.0</td>\n",
              "      <td>2005.0</td>\n",
              "      <td>1</td>\n",
              "      <td>10.0</td>\n",
              "      <td>2014.0</td>\n",
              "      <td>Jan,Apr,Jul,Oct</td>\n",
              "    </tr>\n",
              "    <tr>\n",
              "      <th>2</th>\n",
              "      <td>1</td>\n",
              "      <td>23</td>\n",
              "      <td>6</td>\n",
              "      <td>869</td>\n",
              "      <td>3</td>\n",
              "      <td>6/3/2015</td>\n",
              "      <td>7007</td>\n",
              "      <td>932</td>\n",
              "      <td>1</td>\n",
              "      <td>1</td>\n",
              "      <td>0.0</td>\n",
              "      <td>0</td>\n",
              "      <td>869</td>\n",
              "      <td>c</td>\n",
              "      <td>a</td>\n",
              "      <td>230.0</td>\n",
              "      <td>10.0</td>\n",
              "      <td>2001.0</td>\n",
              "      <td>1</td>\n",
              "      <td>14.0</td>\n",
              "      <td>2011.0</td>\n",
              "      <td>Jan,Apr,Jul,Oct</td>\n",
              "    </tr>\n",
              "    <tr>\n",
              "      <th>3</th>\n",
              "      <td>1</td>\n",
              "      <td>23</td>\n",
              "      <td>6</td>\n",
              "      <td>870</td>\n",
              "      <td>3</td>\n",
              "      <td>6/3/2015</td>\n",
              "      <td>7911</td>\n",
              "      <td>971</td>\n",
              "      <td>1</td>\n",
              "      <td>1</td>\n",
              "      <td>0.0</td>\n",
              "      <td>0</td>\n",
              "      <td>870</td>\n",
              "      <td>a</td>\n",
              "      <td>a</td>\n",
              "      <td>780.0</td>\n",
              "      <td>4.0</td>\n",
              "      <td>2009.0</td>\n",
              "      <td>0</td>\n",
              "      <td>NaN</td>\n",
              "      <td>NaN</td>\n",
              "      <td>Jan,Apr,Jul,Oct</td>\n",
              "    </tr>\n",
              "    <tr>\n",
              "      <th>4</th>\n",
              "      <td>1</td>\n",
              "      <td>23</td>\n",
              "      <td>6</td>\n",
              "      <td>871</td>\n",
              "      <td>3</td>\n",
              "      <td>6/3/2015</td>\n",
              "      <td>9198</td>\n",
              "      <td>678</td>\n",
              "      <td>1</td>\n",
              "      <td>1</td>\n",
              "      <td>0.0</td>\n",
              "      <td>0</td>\n",
              "      <td>871</td>\n",
              "      <td>d</td>\n",
              "      <td>c</td>\n",
              "      <td>10620.0</td>\n",
              "      <td>NaN</td>\n",
              "      <td>NaN</td>\n",
              "      <td>0</td>\n",
              "      <td>NaN</td>\n",
              "      <td>NaN</td>\n",
              "      <td>Jan,Apr,Jul,Oct</td>\n",
              "    </tr>\n",
              "  </tbody>\n",
              "</table>\n",
              "</div>"
            ],
            "text/plain": [
              "   Weekdays  Weeks  Months  ...  Promo2SinceWeek  Promo2SinceYear    PromoInterval\n",
              "0         1     23       6  ...              NaN              NaN  Jan,Apr,Jul,Oct\n",
              "1         1     23       6  ...             10.0           2014.0  Jan,Apr,Jul,Oct\n",
              "2         1     23       6  ...             14.0           2011.0  Jan,Apr,Jul,Oct\n",
              "3         1     23       6  ...              NaN              NaN  Jan,Apr,Jul,Oct\n",
              "4         1     23       6  ...              NaN              NaN  Jan,Apr,Jul,Oct\n",
              "\n",
              "[5 rows x 22 columns]"
            ]
          },
          "metadata": {
            "tags": []
          },
          "execution_count": 11
        }
      ]
    },
    {
      "cell_type": "code",
      "metadata": {
        "id": "JcV-G4k5brci",
        "colab_type": "code",
        "colab": {}
      },
      "source": [
        "#Checking the no. of NaN values\n",
        "train_data.isna().sum()"
      ],
      "execution_count": null,
      "outputs": []
    },
    {
      "cell_type": "code",
      "metadata": {
        "id": "jWFeDzIhcMJA",
        "colab_type": "code",
        "colab": {}
      },
      "source": [
        ""
      ],
      "execution_count": null,
      "outputs": []
    }
  ]
}