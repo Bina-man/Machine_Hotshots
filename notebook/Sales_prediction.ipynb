{
  "nbformat": 4,
  "nbformat_minor": 0,
  "metadata": {
    "colab": {
      "name": "Sales_prediction1.ipynb",
      "provenance": []
    },
    "kernelspec": {
      "name": "python3",
      "display_name": "Python 3"
    },
    "accelerator": "TPU"
  },
  "cells": [
    {
      "cell_type": "markdown",
      "metadata": {
        "id": "KB6TKsFwZZgC",
        "colab_type": "text"
      },
      "source": [
        "# **Pharmaceutical Sales prediction across multiple stores**"
      ]
    },
    {
      "cell_type": "markdown",
      "metadata": {
        "id": "p8xV0oPdYzga",
        "colab_type": "text"
      },
      "source": [
        "**Forecasting Sales is a essential use of Machine Learning(ML).Sales forecasts can be used to identify benchmarks and determine incremental impacts of new initiatives, plan resources in response to expected demand and project future budgets.**"
      ]
    },
    {
      "cell_type": "markdown",
      "metadata": {
        "id": "DMgVyFpBZy2Q",
        "colab_type": "text"
      },
      "source": [
        "## **Table of contents**\n",
        "     1. Exploring the data and Data Pre-processing\n",
        "     2. Building models with sklearn pipelines\n",
        "     3. Choose a loss function\n",
        "     4. Post Prediction analysis\n",
        "     5. Serialize models"
      ]
    },
    {
      "cell_type": "markdown",
      "metadata": {
        "id": "h_8mBZIScTDI",
        "colab_type": "text"
      },
      "source": [
        " ## **1. Data Preprocessing**"
      ]
    },
    {
      "cell_type": "markdown",
      "metadata": {
        "id": "cCD-eDgBck26",
        "colab_type": "text"
      },
      "source": [
        "  1.1 Importing Libraries"
      ]
    },
    {
      "cell_type": "code",
      "metadata": {
        "id": "uYSkzRZ6XjJ5",
        "colab_type": "code",
        "colab": {}
      },
      "source": [
        "!pip install category_encoders\n",
        "import pandas as pd\n",
        "import seaborn as sns\n",
        "from sklearn.model_selection import train_test_split \n",
        "from sklearn.linear_model import LinearRegression\n",
        "from sklearn.preprocessing import StandardScaler\n",
        "from sklearn.ensemble import  RandomForestRegressor\n",
        "from sklearn.metrics import mean_squared_error\n",
        "from xgboost import XGBClassifier\n",
        "from sklearn import preprocessing\n",
        "from sklearn.pipeline import Pipeline\n",
        "from sklearn import model_selection\n",
        "import numpy as np \n",
        "import matplotlib.pyplot as plt\n",
        "import category_encoders as ce\n",
        "%matplotlib inline"
      ],
      "execution_count": null,
      "outputs": []
    },
    {
      "cell_type": "code",
      "metadata": {
        "id": "ye1wJKoEXxEJ",
        "colab_type": "code",
        "colab": {}
      },
      "source": [
        "train_data=pd.read_csv('/content/drive/My Drive/Output.csv')"
      ],
      "execution_count": 2,
      "outputs": []
    },
    {
      "cell_type": "code",
      "metadata": {
        "id": "KboRAT1wbL-2",
        "colab_type": "code",
        "colab": {
          "base_uri": "https://localhost:8080/",
          "height": 231
        },
        "outputId": "97414b86-5873-42e4-8baa-75bb6e6b12eb"
      },
      "source": [
        "train_data.head()"
      ],
      "execution_count": 3,
      "outputs": [
        {
          "output_type": "execute_result",
          "data": {
            "text/html": [
              "<div>\n",
              "<style scoped>\n",
              "    .dataframe tbody tr th:only-of-type {\n",
              "        vertical-align: middle;\n",
              "    }\n",
              "\n",
              "    .dataframe tbody tr th {\n",
              "        vertical-align: top;\n",
              "    }\n",
              "\n",
              "    .dataframe thead th {\n",
              "        text-align: right;\n",
              "    }\n",
              "</style>\n",
              "<table border=\"1\" class=\"dataframe\">\n",
              "  <thead>\n",
              "    <tr style=\"text-align: right;\">\n",
              "      <th></th>\n",
              "      <th>Weekdays</th>\n",
              "      <th>Weeks</th>\n",
              "      <th>Months</th>\n",
              "      <th>Store</th>\n",
              "      <th>DayOfWeek</th>\n",
              "      <th>Date</th>\n",
              "      <th>Sales</th>\n",
              "      <th>Customers</th>\n",
              "      <th>Open</th>\n",
              "      <th>Promo</th>\n",
              "      <th>StateHoliday</th>\n",
              "      <th>SchoolHoliday</th>\n",
              "      <th>Store-1</th>\n",
              "      <th>StoreType</th>\n",
              "      <th>Assortment</th>\n",
              "      <th>CompetitionDistance</th>\n",
              "      <th>CompetitionOpenSinceMonth</th>\n",
              "      <th>CompetitionOpenSinceYear</th>\n",
              "      <th>Promo2</th>\n",
              "      <th>Promo2SinceWeek</th>\n",
              "      <th>Promo2SinceYear</th>\n",
              "      <th>PromoInterval</th>\n",
              "    </tr>\n",
              "  </thead>\n",
              "  <tbody>\n",
              "    <tr>\n",
              "      <th>0</th>\n",
              "      <td>1</td>\n",
              "      <td>23</td>\n",
              "      <td>6</td>\n",
              "      <td>867</td>\n",
              "      <td>3</td>\n",
              "      <td>6/3/2015</td>\n",
              "      <td>5608</td>\n",
              "      <td>469</td>\n",
              "      <td>1</td>\n",
              "      <td>1</td>\n",
              "      <td>0.0</td>\n",
              "      <td>0</td>\n",
              "      <td>867</td>\n",
              "      <td>d</td>\n",
              "      <td>c</td>\n",
              "      <td>21810.0</td>\n",
              "      <td>9.0</td>\n",
              "      <td>2012.0</td>\n",
              "      <td>0</td>\n",
              "      <td>NaN</td>\n",
              "      <td>NaN</td>\n",
              "      <td>Jan,Apr,Jul,Oct</td>\n",
              "    </tr>\n",
              "    <tr>\n",
              "      <th>1</th>\n",
              "      <td>1</td>\n",
              "      <td>23</td>\n",
              "      <td>6</td>\n",
              "      <td>868</td>\n",
              "      <td>3</td>\n",
              "      <td>6/3/2015</td>\n",
              "      <td>13500</td>\n",
              "      <td>816</td>\n",
              "      <td>1</td>\n",
              "      <td>1</td>\n",
              "      <td>0.0</td>\n",
              "      <td>0</td>\n",
              "      <td>868</td>\n",
              "      <td>d</td>\n",
              "      <td>c</td>\n",
              "      <td>1360.0</td>\n",
              "      <td>8.0</td>\n",
              "      <td>2005.0</td>\n",
              "      <td>1</td>\n",
              "      <td>10.0</td>\n",
              "      <td>2014.0</td>\n",
              "      <td>Jan,Apr,Jul,Oct</td>\n",
              "    </tr>\n",
              "    <tr>\n",
              "      <th>2</th>\n",
              "      <td>1</td>\n",
              "      <td>23</td>\n",
              "      <td>6</td>\n",
              "      <td>869</td>\n",
              "      <td>3</td>\n",
              "      <td>6/3/2015</td>\n",
              "      <td>7007</td>\n",
              "      <td>932</td>\n",
              "      <td>1</td>\n",
              "      <td>1</td>\n",
              "      <td>0.0</td>\n",
              "      <td>0</td>\n",
              "      <td>869</td>\n",
              "      <td>c</td>\n",
              "      <td>a</td>\n",
              "      <td>230.0</td>\n",
              "      <td>10.0</td>\n",
              "      <td>2001.0</td>\n",
              "      <td>1</td>\n",
              "      <td>14.0</td>\n",
              "      <td>2011.0</td>\n",
              "      <td>Jan,Apr,Jul,Oct</td>\n",
              "    </tr>\n",
              "    <tr>\n",
              "      <th>3</th>\n",
              "      <td>1</td>\n",
              "      <td>23</td>\n",
              "      <td>6</td>\n",
              "      <td>870</td>\n",
              "      <td>3</td>\n",
              "      <td>6/3/2015</td>\n",
              "      <td>7911</td>\n",
              "      <td>971</td>\n",
              "      <td>1</td>\n",
              "      <td>1</td>\n",
              "      <td>0.0</td>\n",
              "      <td>0</td>\n",
              "      <td>870</td>\n",
              "      <td>a</td>\n",
              "      <td>a</td>\n",
              "      <td>780.0</td>\n",
              "      <td>4.0</td>\n",
              "      <td>2009.0</td>\n",
              "      <td>0</td>\n",
              "      <td>NaN</td>\n",
              "      <td>NaN</td>\n",
              "      <td>Jan,Apr,Jul,Oct</td>\n",
              "    </tr>\n",
              "    <tr>\n",
              "      <th>4</th>\n",
              "      <td>1</td>\n",
              "      <td>23</td>\n",
              "      <td>6</td>\n",
              "      <td>871</td>\n",
              "      <td>3</td>\n",
              "      <td>6/3/2015</td>\n",
              "      <td>9198</td>\n",
              "      <td>678</td>\n",
              "      <td>1</td>\n",
              "      <td>1</td>\n",
              "      <td>0.0</td>\n",
              "      <td>0</td>\n",
              "      <td>871</td>\n",
              "      <td>d</td>\n",
              "      <td>c</td>\n",
              "      <td>10620.0</td>\n",
              "      <td>NaN</td>\n",
              "      <td>NaN</td>\n",
              "      <td>0</td>\n",
              "      <td>NaN</td>\n",
              "      <td>NaN</td>\n",
              "      <td>Jan,Apr,Jul,Oct</td>\n",
              "    </tr>\n",
              "  </tbody>\n",
              "</table>\n",
              "</div>"
            ],
            "text/plain": [
              "   Weekdays  Weeks  Months  ...  Promo2SinceWeek  Promo2SinceYear    PromoInterval\n",
              "0         1     23       6  ...              NaN              NaN  Jan,Apr,Jul,Oct\n",
              "1         1     23       6  ...             10.0           2014.0  Jan,Apr,Jul,Oct\n",
              "2         1     23       6  ...             14.0           2011.0  Jan,Apr,Jul,Oct\n",
              "3         1     23       6  ...              NaN              NaN  Jan,Apr,Jul,Oct\n",
              "4         1     23       6  ...              NaN              NaN  Jan,Apr,Jul,Oct\n",
              "\n",
              "[5 rows x 22 columns]"
            ]
          },
          "metadata": {
            "tags": []
          },
          "execution_count": 3
        }
      ]
    },
    {
      "cell_type": "markdown",
      "metadata": {
        "id": "Ap56r3xao4qU",
        "colab_type": "text"
      },
      "source": [
        "**1.2 Cleansing the Data**\n",
        "\n",
        "   1.2.1 Handling Null values"
      ]
    },
    {
      "cell_type": "code",
      "metadata": {
        "id": "JcV-G4k5brci",
        "colab_type": "code",
        "colab": {
          "base_uri": "https://localhost:8080/",
          "height": 426
        },
        "outputId": "f2b780c5-3d9a-48cc-d853-31a6813fe75a"
      },
      "source": [
        "#Checking the no. of NaN values\n",
        "train_data.isna().sum()"
      ],
      "execution_count": 4,
      "outputs": [
        {
          "output_type": "execute_result",
          "data": {
            "text/plain": [
              "Weekdays                          0\n",
              "Weeks                             0\n",
              "Months                            0\n",
              "Store                             0\n",
              "DayOfWeek                         0\n",
              "Date                              0\n",
              "Sales                             0\n",
              "Customers                         0\n",
              "Open                              0\n",
              "Promo                             0\n",
              "StateHoliday                  31050\n",
              "SchoolHoliday                     0\n",
              "Store-1                           0\n",
              "StoreType                         0\n",
              "Assortment                        0\n",
              "CompetitionDistance            2642\n",
              "CompetitionOpenSinceMonth    323348\n",
              "CompetitionOpenSinceYear     323348\n",
              "Promo2                            0\n",
              "Promo2SinceWeek              508031\n",
              "Promo2SinceYear              508031\n",
              "PromoInterval                     0\n",
              "dtype: int64"
            ]
          },
          "metadata": {
            "tags": []
          },
          "execution_count": 4
        }
      ]
    },
    {
      "cell_type": "markdown",
      "metadata": {
        "id": "JJenGYxjpFPi",
        "colab_type": "text"
      },
      "source": [
        "1) CompetitionDistance:"
      ]
    },
    {
      "cell_type": "markdown",
      "metadata": {
        "id": "Q07X7yjvpTHY",
        "colab_type": "text"
      },
      "source": [
        "* Before deciding how to treat this,we know there are infinite ways of filling missing values.\n",
        "* The most common and simplistic approach is to fill it with either the mean or the median of this variable.\n",
        "* Let's quickly have a look at those metrics."
      ]
    },
    {
      "cell_type": "code",
      "metadata": {
        "id": "jWFeDzIhcMJA",
        "colab_type": "code",
        "colab": {
          "base_uri": "https://localhost:8080/",
          "height": 272
        },
        "outputId": "e5972162-67b1-42cb-cab5-a72c85e1dc17"
      },
      "source": [
        "df_store_check_distribution=train_data.drop(train_data[pd.isnull(train_data.CompetitionDistance)].index)\n",
        "fig, axes = plt.subplots(1, 2, figsize=(17,3.5))\n",
        "axes[0].boxplot(df_store_check_distribution.CompetitionDistance, showmeans=True,vert=False,)\n",
        "axes[0].set_xlim(0,max(df_store_check_distribution.CompetitionDistance+1000))\n",
        "axes[0].set_title('Boxplot For Closest Competition')\n",
        "axes[1].hist(df_store_check_distribution.CompetitionDistance, cumulative=False, bins=30)\n",
        "axes[1].set_title(\"Closest Competition histogram\")\n",
        "axes[1].set_xlim((min(df_store_check_distribution.CompetitionDistance), max(df_store_check_distribution.CompetitionDistance)))\n",
        "{\"Mean\":np.nanmean(train_data.CompetitionDistance),\"Median\":np.nanmedian(train_data.CompetitionDistance),\"Standard Dev\":np.nanstd(train_data.CompetitionDistance)}#That's what i thought, very different values, let's see why "
      ],
      "execution_count": 5,
      "outputs": [
        {
          "output_type": "execute_result",
          "data": {
            "text/plain": [
              "{'Mean': 5430.085652302903, 'Median': 2330.0, 'Standard Dev': 7715.31989799512}"
            ]
          },
          "metadata": {
            "tags": []
          },
          "execution_count": 5
        },
        {
          "output_type": "display_data",
          "data": {
            "image/png": "[encoded data removed]",
            "text/plain": [
              "<Figure size 1224x252 with 2 Axes>"
            ]
          },
          "metadata": {
            "tags": [],
            "needs_background": "light"
          }
        }
      ]
    },
    {
      "cell_type": "markdown",
      "metadata": {
        "id": "5LSv1t2SqQAQ",
        "colab_type": "text"
      },
      "source": [
        "We see a highly right skewed distribution for this variable with a significant difference between the mean and the median. This being caused by the amount of disperness in the data with a standard deviation of 7659, higher than the mean and the median."
      ]
    },
    {
      "cell_type": "markdown",
      "metadata": {
        "id": "bshxEUK9qUHN",
        "colab_type": "text"
      },
      "source": [
        "**What do we do then?**\n",
        "\n",
        "It is realistically better to input the median value to the Nan stores then the mean since the mean is biased by those outliers."
      ]
    },
    {
      "cell_type": "code",
      "metadata": {
        "id": "nq23xh3gqgIM",
        "colab_type": "code",
        "colab": {}
      },
      "source": [
        "train_data['CompetitionDistance'].fillna(train_data['CompetitionDistance'].median(), inplace = True)"
      ],
      "execution_count": 6,
      "outputs": []
    },
    {
      "cell_type": "markdown",
      "metadata": {
        "id": "u_oX-suNqru9",
        "colab_type": "text"
      },
      "source": [
        "2) CompetitionOpenSinceMonth and CompetitionOpenSinceYear?"
      ]
    },
    {
      "cell_type": "markdown",
      "metadata": {
        "id": "aXjnEaBTqz6K",
        "colab_type": "text"
      },
      "source": [
        "* Since we have no information whatsoever on those missing values and no accurate way of filling those values.\n",
        "* A creative way could be to apply a multilabel classification algorithm and train on the non Nan fields and then predict what could be most probably the month and year for those fields. But this approach is computationally too long.\n",
        "* So for this purpose those fields are going to be assigned to 0 ."
      ]
    },
    {
      "cell_type": "code",
      "metadata": {
        "id": "iGzy0D_IrA0-",
        "colab_type": "code",
        "colab": {}
      },
      "source": [
        "train_data.CompetitionOpenSinceMonth.fillna(0, inplace = True)\n",
        "train_data.CompetitionOpenSinceYear.fillna(0,inplace=True)"
      ],
      "execution_count": 7,
      "outputs": []
    },
    {
      "cell_type": "markdown",
      "metadata": {
        "id": "1pcM6ltNrNAU",
        "colab_type": "text"
      },
      "source": [
        "3) Promo2SinceWeek, Promo2SinceYear and PromoInterval ?\n",
        "\n"
      ]
    },
    {
      "cell_type": "markdown",
      "metadata": {
        "id": "M_hh9zNnraOE",
        "colab_type": "text"
      },
      "source": [
        "* This case is pretty straighforward, all the missing values comes from fields where Promo2=0 which means there are no continuous promotional activities for those stores.\n",
        "* Having no promotion means those fields have to be 0 as well since they are linked to Promo2."
      ]
    },
    {
      "cell_type": "code",
      "metadata": {
        "id": "Wf1cIqV9reoy",
        "colab_type": "code",
        "colab": {}
      },
      "source": [
        "train_data.Promo2SinceWeek.fillna(0,inplace=True)\n",
        "train_data.Promo2SinceYear.fillna(0,inplace=True)\n",
        "train_data.PromoInterval.fillna(0,inplace=True)\n"
      ],
      "execution_count": 8,
      "outputs": []
    },
    {
      "cell_type": "markdown",
      "metadata": {
        "id": "jYPapWS6r4mk",
        "colab_type": "text"
      },
      "source": [
        "4) StateHoliday"
      ]
    },
    {
      "cell_type": "code",
      "metadata": {
        "id": "NIaWtE4wsKiu",
        "colab_type": "code",
        "colab": {}
      },
      "source": [
        "train_data.StateHoliday.fillna(0,inplace=True)"
      ],
      "execution_count": 9,
      "outputs": []
    },
    {
      "cell_type": "code",
      "metadata": {
        "id": "tY6h1tSMrux7",
        "colab_type": "code",
        "colab": {
          "base_uri": "https://localhost:8080/",
          "height": 426
        },
        "outputId": "409269b1-0dbe-47ef-ea45-4e6f51471403"
      },
      "source": [
        "train_data.count(0)/train_data.shape[0] * 100"
      ],
      "execution_count": 10,
      "outputs": [
        {
          "output_type": "execute_result",
          "data": {
            "text/plain": [
              "Weekdays                     100.0\n",
              "Weeks                        100.0\n",
              "Months                       100.0\n",
              "Store                        100.0\n",
              "DayOfWeek                    100.0\n",
              "Date                         100.0\n",
              "Sales                        100.0\n",
              "Customers                    100.0\n",
              "Open                         100.0\n",
              "Promo                        100.0\n",
              "StateHoliday                 100.0\n",
              "SchoolHoliday                100.0\n",
              "Store-1                      100.0\n",
              "StoreType                    100.0\n",
              "Assortment                   100.0\n",
              "CompetitionDistance          100.0\n",
              "CompetitionOpenSinceMonth    100.0\n",
              "CompetitionOpenSinceYear     100.0\n",
              "Promo2                       100.0\n",
              "Promo2SinceWeek              100.0\n",
              "Promo2SinceYear              100.0\n",
              "PromoInterval                100.0\n",
              "dtype: float64"
            ]
          },
          "metadata": {
            "tags": []
          },
          "execution_count": 10
        }
      ]
    },
    {
      "cell_type": "markdown",
      "metadata": {
        "id": "ArXrlXqDsbmz",
        "colab_type": "text"
      },
      "source": [
        "**Now all the null values are imputed**"
      ]
    },
    {
      "cell_type": "markdown",
      "metadata": {
        "id": "5P_4OuY5tE_0",
        "colab_type": "text"
      },
      "source": [
        "1.2.2 Handling Outliers"
      ]
    },
    {
      "cell_type": "code",
      "metadata": {
        "id": "agV3gp5LtgzU",
        "colab_type": "code",
        "colab": {
          "base_uri": "https://localhost:8080/",
          "height": 628
        },
        "outputId": "b5790196-478a-409f-a28b-624063f49403"
      },
      "source": [
        "#Find the range of data\n",
        "plt.figure(figsize=(5,10))\n",
        "sns.set(style=\"whitegrid\")\n",
        "sns.distplot(train_data[\"Sales\"])"
      ],
      "execution_count": 11,
      "outputs": [
        {
          "output_type": "execute_result",
          "data": {
            "text/plain": [
              "<matplotlib.axes._subplots.AxesSubplot at 0x7fa1d6d83ef0>"
            ]
          },
          "metadata": {
            "tags": []
          },
          "execution_count": 11
        },
        {
          "output_type": "display_data",
          "data": {
            "image/png": "[encoded data removed]",
            "text/plain": [
              "<Figure size 360x720 with 1 Axes>"
            ]
          },
          "metadata": {
            "tags": [],
            "needs_background": "light"
          }
        }
      ]
    },
    {
      "cell_type": "code",
      "metadata": {
        "id": "-t7mbdw_tl9b",
        "colab_type": "code",
        "colab": {
          "base_uri": "https://localhost:8080/",
          "height": 628
        },
        "outputId": "12240730-b0e1-4d13-ff58-4bd932968631"
      },
      "source": [
        "#Find the range of the data\n",
        "plt.figure(figsize=(5,10))\n",
        "sns.set(style=\"whitegrid\")\n",
        "sns.distplot(train_data[\"Customers\"])"
      ],
      "execution_count": 12,
      "outputs": [
        {
          "output_type": "execute_result",
          "data": {
            "text/plain": [
              "<matplotlib.axes._subplots.AxesSubplot at 0x7fa1d68fd9e8>"
            ]
          },
          "metadata": {
            "tags": []
          },
          "execution_count": 12
        },
        {
          "output_type": "display_data",
          "data": {
            "image/png": "[encoded data removed]",
            "text/plain": [
              "<Figure size 360x720 with 1 Axes>"
            ]
          },
          "metadata": {
            "tags": []
          }
        }
      ]
    },
    {
      "cell_type": "code",
      "metadata": {
        "id": "nUoUhoE6tuT7",
        "colab_type": "code",
        "colab": {
          "base_uri": "https://localhost:8080/",
          "height": 628
        },
        "outputId": "85c9e37b-6e11-434e-9d3c-7e5cc860108a"
      },
      "source": [
        "plt.figure(figsize=(10,10))\n",
        "sns.set(style=\"whitegrid\")\n",
        "sns.boxenplot(data=train_data,scale=\"linear\",x=\"DayOfWeek\",y=\"Sales\",color=\"Black\")"
      ],
      "execution_count": 13,
      "outputs": [
        {
          "output_type": "execute_result",
          "data": {
            "text/plain": [
              "<matplotlib.axes._subplots.AxesSubplot at 0x7fa1d78b8cf8>"
            ]
          },
          "metadata": {
            "tags": []
          },
          "execution_count": 13
        },
        {
          "output_type": "display_data",
          "data": {
            "image/png": "[encoded data removed]",
            "text/plain": [
              "<Figure size 720x720 with 1 Axes>"
            ]
          },
          "metadata": {
            "tags": []
          }
        }
      ]
    },
    {
      "cell_type": "code",
      "metadata": {
        "id": "RRIikKOmt78o",
        "colab_type": "code",
        "colab": {
          "base_uri": "https://localhost:8080/",
          "height": 628
        },
        "outputId": "875f965a-624d-4a5f-9bf4-058595f021a8"
      },
      "source": [
        "plt.figure(figsize=(10,10))\n",
        "sns.set(style=\"whitegrid\")\n",
        "sns.boxenplot(y=\"Customers\", x=\"DayOfWeek\",data=train_data, scale=\"linear\",color=\"Green\")"
      ],
      "execution_count": 14,
      "outputs": [
        {
          "output_type": "execute_result",
          "data": {
            "text/plain": [
              "<matplotlib.axes._subplots.AxesSubplot at 0x7fa1d67e4d68>"
            ]
          },
          "metadata": {
            "tags": []
          },
          "execution_count": 14
        },
        {
          "output_type": "display_data",
          "data": {
            "image/png": "[encoded data removed]",
            "text/plain": [
              "<Figure size 720x720 with 1 Axes>"
            ]
          },
          "metadata": {
            "tags": []
          }
        }
      ]
    },
    {
      "cell_type": "markdown",
      "metadata": {
        "id": "wE2kCjhYuHUx",
        "colab_type": "text"
      },
      "source": [
        "This data, contains many outliers, but these might have been caused to the surge of customers during a festival or Holiday, or due to an effective promo. \n",
        "Below we are handle the outliers"
      ]
    },
    {
      "cell_type": "code",
      "metadata": {
        "id": "AAp8e610ukeA",
        "colab_type": "code",
        "colab": {}
      },
      "source": [
        "#Treating the outliers \n",
        "  # a function for replacing outliers with the median, used when there's too many outliers in a feature\n",
        "def replace_outlier_with_median(dataFrame, feature):\n",
        "    Q1 = dataFrame[feature].quantile(0.25)\n",
        "    Q3 = dataFrame[feature].quantile(0.75)\n",
        "    median = dataFrame[feature].quantile(0.50)\n",
        "\n",
        "    IQR = Q3 - Q1\n",
        "\n",
        "    upper_whisker = Q3 + (1.5 * IQR)\n",
        "    lower_whisker = Q1 - (1.5 * IQR)\n",
        "\n",
        "    dataFrame[feature] = np.where(dataFrame[feature] > upper_whisker, median, dataFrame[feature])\n",
        "    dataFrame[feature] = np.where(dataFrame[feature] < lower_whisker, median, dataFrame[feature])"
      ],
      "execution_count": 15,
      "outputs": []
    },
    {
      "cell_type": "code",
      "metadata": {
        "id": "lI_mb8M3uzrF",
        "colab_type": "code",
        "colab": {}
      },
      "source": [
        "replace_outlier_with_median(train_data, 'Sales')"
      ],
      "execution_count": 16,
      "outputs": []
    },
    {
      "cell_type": "code",
      "metadata": {
        "id": "iKUXqziJvB0n",
        "colab_type": "code",
        "colab": {}
      },
      "source": [
        "replace_outlier_with_median(train_data, 'Customers')"
      ],
      "execution_count": 17,
      "outputs": []
    },
    {
      "cell_type": "markdown",
      "metadata": {
        "id": "aF3kMgH3lUnk",
        "colab_type": "text"
      },
      "source": [
        "1.3 **Feature Engeneering**\n",
        "\n",
        "Generating new features from already existing features. \n",
        "\n"
      ]
    },
    {
      "cell_type": "code",
      "metadata": {
        "id": "keMWSDS_ldOB",
        "colab_type": "code",
        "colab": {
          "base_uri": "https://localhost:8080/",
          "height": 436
        },
        "outputId": "6e5caa73-27cc-455d-ce0c-73ee8e0851ec"
      },
      "source": [
        "train_data"
      ],
      "execution_count": 18,
      "outputs": [
        {
          "output_type": "execute_result",
          "data": {
            "text/html": [
              "<div>\n",
              "<style scoped>\n",
              "    .dataframe tbody tr th:only-of-type {\n",
              "        vertical-align: middle;\n",
              "    }\n",
              "\n",
              "    .dataframe tbody tr th {\n",
              "        vertical-align: top;\n",
              "    }\n",
              "\n",
              "    .dataframe thead th {\n",
              "        text-align: right;\n",
              "    }\n",
              "</style>\n",
              "<table border=\"1\" class=\"dataframe\">\n",
              "  <thead>\n",
              "    <tr style=\"text-align: right;\">\n",
              "      <th></th>\n",
              "      <th>Weekdays</th>\n",
              "      <th>Weeks</th>\n",
              "      <th>Months</th>\n",
              "      <th>Store</th>\n",
              "      <th>DayOfWeek</th>\n",
              "      <th>Date</th>\n",
              "      <th>Sales</th>\n",
              "      <th>Customers</th>\n",
              "      <th>Open</th>\n",
              "      <th>Promo</th>\n",
              "      <th>StateHoliday</th>\n",
              "      <th>SchoolHoliday</th>\n",
              "      <th>Store-1</th>\n",
              "      <th>StoreType</th>\n",
              "      <th>Assortment</th>\n",
              "      <th>CompetitionDistance</th>\n",
              "      <th>CompetitionOpenSinceMonth</th>\n",
              "      <th>CompetitionOpenSinceYear</th>\n",
              "      <th>Promo2</th>\n",
              "      <th>Promo2SinceWeek</th>\n",
              "      <th>Promo2SinceYear</th>\n",
              "      <th>PromoInterval</th>\n",
              "    </tr>\n",
              "  </thead>\n",
              "  <tbody>\n",
              "    <tr>\n",
              "      <th>0</th>\n",
              "      <td>1</td>\n",
              "      <td>23</td>\n",
              "      <td>6</td>\n",
              "      <td>867</td>\n",
              "      <td>3</td>\n",
              "      <td>6/3/2015</td>\n",
              "      <td>5608.0</td>\n",
              "      <td>469.0</td>\n",
              "      <td>1</td>\n",
              "      <td>1</td>\n",
              "      <td>0.0</td>\n",
              "      <td>0</td>\n",
              "      <td>867</td>\n",
              "      <td>d</td>\n",
              "      <td>c</td>\n",
              "      <td>21810.0</td>\n",
              "      <td>9.0</td>\n",
              "      <td>2012.0</td>\n",
              "      <td>0</td>\n",
              "      <td>0.0</td>\n",
              "      <td>0.0</td>\n",
              "      <td>Jan,Apr,Jul,Oct</td>\n",
              "    </tr>\n",
              "    <tr>\n",
              "      <th>1</th>\n",
              "      <td>1</td>\n",
              "      <td>23</td>\n",
              "      <td>6</td>\n",
              "      <td>868</td>\n",
              "      <td>3</td>\n",
              "      <td>6/3/2015</td>\n",
              "      <td>13500.0</td>\n",
              "      <td>816.0</td>\n",
              "      <td>1</td>\n",
              "      <td>1</td>\n",
              "      <td>0.0</td>\n",
              "      <td>0</td>\n",
              "      <td>868</td>\n",
              "      <td>d</td>\n",
              "      <td>c</td>\n",
              "      <td>1360.0</td>\n",
              "      <td>8.0</td>\n",
              "      <td>2005.0</td>\n",
              "      <td>1</td>\n",
              "      <td>10.0</td>\n",
              "      <td>2014.0</td>\n",
              "      <td>Jan,Apr,Jul,Oct</td>\n",
              "    </tr>\n",
              "    <tr>\n",
              "      <th>2</th>\n",
              "      <td>1</td>\n",
              "      <td>23</td>\n",
              "      <td>6</td>\n",
              "      <td>869</td>\n",
              "      <td>3</td>\n",
              "      <td>6/3/2015</td>\n",
              "      <td>7007.0</td>\n",
              "      <td>932.0</td>\n",
              "      <td>1</td>\n",
              "      <td>1</td>\n",
              "      <td>0.0</td>\n",
              "      <td>0</td>\n",
              "      <td>869</td>\n",
              "      <td>c</td>\n",
              "      <td>a</td>\n",
              "      <td>230.0</td>\n",
              "      <td>10.0</td>\n",
              "      <td>2001.0</td>\n",
              "      <td>1</td>\n",
              "      <td>14.0</td>\n",
              "      <td>2011.0</td>\n",
              "      <td>Jan,Apr,Jul,Oct</td>\n",
              "    </tr>\n",
              "    <tr>\n",
              "      <th>3</th>\n",
              "      <td>1</td>\n",
              "      <td>23</td>\n",
              "      <td>6</td>\n",
              "      <td>870</td>\n",
              "      <td>3</td>\n",
              "      <td>6/3/2015</td>\n",
              "      <td>7911.0</td>\n",
              "      <td>971.0</td>\n",
              "      <td>1</td>\n",
              "      <td>1</td>\n",
              "      <td>0.0</td>\n",
              "      <td>0</td>\n",
              "      <td>870</td>\n",
              "      <td>a</td>\n",
              "      <td>a</td>\n",
              "      <td>780.0</td>\n",
              "      <td>4.0</td>\n",
              "      <td>2009.0</td>\n",
              "      <td>0</td>\n",
              "      <td>0.0</td>\n",
              "      <td>0.0</td>\n",
              "      <td>Jan,Apr,Jul,Oct</td>\n",
              "    </tr>\n",
              "    <tr>\n",
              "      <th>4</th>\n",
              "      <td>1</td>\n",
              "      <td>23</td>\n",
              "      <td>6</td>\n",
              "      <td>871</td>\n",
              "      <td>3</td>\n",
              "      <td>6/3/2015</td>\n",
              "      <td>9198.0</td>\n",
              "      <td>678.0</td>\n",
              "      <td>1</td>\n",
              "      <td>1</td>\n",
              "      <td>0.0</td>\n",
              "      <td>0</td>\n",
              "      <td>871</td>\n",
              "      <td>d</td>\n",
              "      <td>c</td>\n",
              "      <td>10620.0</td>\n",
              "      <td>0.0</td>\n",
              "      <td>0.0</td>\n",
              "      <td>0</td>\n",
              "      <td>0.0</td>\n",
              "      <td>0.0</td>\n",
              "      <td>Jan,Apr,Jul,Oct</td>\n",
              "    </tr>\n",
              "    <tr>\n",
              "      <th>...</th>\n",
              "      <td>...</td>\n",
              "      <td>...</td>\n",
              "      <td>...</td>\n",
              "      <td>...</td>\n",
              "      <td>...</td>\n",
              "      <td>...</td>\n",
              "      <td>...</td>\n",
              "      <td>...</td>\n",
              "      <td>...</td>\n",
              "      <td>...</td>\n",
              "      <td>...</td>\n",
              "      <td>...</td>\n",
              "      <td>...</td>\n",
              "      <td>...</td>\n",
              "      <td>...</td>\n",
              "      <td>...</td>\n",
              "      <td>...</td>\n",
              "      <td>...</td>\n",
              "      <td>...</td>\n",
              "      <td>...</td>\n",
              "      <td>...</td>\n",
              "      <td>...</td>\n",
              "    </tr>\n",
              "    <tr>\n",
              "      <th>1017204</th>\n",
              "      <td>1</td>\n",
              "      <td>23</td>\n",
              "      <td>6</td>\n",
              "      <td>862</td>\n",
              "      <td>3</td>\n",
              "      <td>6/3/2015</td>\n",
              "      <td>10053.0</td>\n",
              "      <td>1227.0</td>\n",
              "      <td>1</td>\n",
              "      <td>1</td>\n",
              "      <td>0.0</td>\n",
              "      <td>0</td>\n",
              "      <td>862</td>\n",
              "      <td>a</td>\n",
              "      <td>c</td>\n",
              "      <td>2840.0</td>\n",
              "      <td>3.0</td>\n",
              "      <td>2010.0</td>\n",
              "      <td>1</td>\n",
              "      <td>14.0</td>\n",
              "      <td>2011.0</td>\n",
              "      <td>Jan,Apr,Jul,Oct</td>\n",
              "    </tr>\n",
              "    <tr>\n",
              "      <th>1017205</th>\n",
              "      <td>1</td>\n",
              "      <td>23</td>\n",
              "      <td>6</td>\n",
              "      <td>863</td>\n",
              "      <td>3</td>\n",
              "      <td>6/3/2015</td>\n",
              "      <td>8949.0</td>\n",
              "      <td>1043.0</td>\n",
              "      <td>1</td>\n",
              "      <td>1</td>\n",
              "      <td>0.0</td>\n",
              "      <td>0</td>\n",
              "      <td>863</td>\n",
              "      <td>a</td>\n",
              "      <td>c</td>\n",
              "      <td>21370.0</td>\n",
              "      <td>11.0</td>\n",
              "      <td>2010.0</td>\n",
              "      <td>0</td>\n",
              "      <td>0.0</td>\n",
              "      <td>0.0</td>\n",
              "      <td>Jan,Apr,Jul,Oct</td>\n",
              "    </tr>\n",
              "    <tr>\n",
              "      <th>1017206</th>\n",
              "      <td>1</td>\n",
              "      <td>23</td>\n",
              "      <td>6</td>\n",
              "      <td>864</td>\n",
              "      <td>3</td>\n",
              "      <td>6/3/2015</td>\n",
              "      <td>6076.0</td>\n",
              "      <td>780.0</td>\n",
              "      <td>1</td>\n",
              "      <td>1</td>\n",
              "      <td>0.0</td>\n",
              "      <td>1</td>\n",
              "      <td>864</td>\n",
              "      <td>a</td>\n",
              "      <td>a</td>\n",
              "      <td>1020.0</td>\n",
              "      <td>10.0</td>\n",
              "      <td>2012.0</td>\n",
              "      <td>1</td>\n",
              "      <td>45.0</td>\n",
              "      <td>2009.0</td>\n",
              "      <td>Feb,May,Aug,Nov</td>\n",
              "    </tr>\n",
              "    <tr>\n",
              "      <th>1017207</th>\n",
              "      <td>1</td>\n",
              "      <td>23</td>\n",
              "      <td>6</td>\n",
              "      <td>865</td>\n",
              "      <td>3</td>\n",
              "      <td>6/3/2015</td>\n",
              "      <td>11384.0</td>\n",
              "      <td>817.0</td>\n",
              "      <td>1</td>\n",
              "      <td>1</td>\n",
              "      <td>0.0</td>\n",
              "      <td>0</td>\n",
              "      <td>865</td>\n",
              "      <td>d</td>\n",
              "      <td>c</td>\n",
              "      <td>2640.0</td>\n",
              "      <td>0.0</td>\n",
              "      <td>0.0</td>\n",
              "      <td>0</td>\n",
              "      <td>0.0</td>\n",
              "      <td>0.0</td>\n",
              "      <td>Jan,Apr,Jul,Oct</td>\n",
              "    </tr>\n",
              "    <tr>\n",
              "      <th>1017208</th>\n",
              "      <td>1</td>\n",
              "      <td>23</td>\n",
              "      <td>6</td>\n",
              "      <td>866</td>\n",
              "      <td>3</td>\n",
              "      <td>6/3/2015</td>\n",
              "      <td>8937.0</td>\n",
              "      <td>608.0</td>\n",
              "      <td>1</td>\n",
              "      <td>1</td>\n",
              "      <td>0.0</td>\n",
              "      <td>0</td>\n",
              "      <td>866</td>\n",
              "      <td>d</td>\n",
              "      <td>a</td>\n",
              "      <td>9680.0</td>\n",
              "      <td>0.0</td>\n",
              "      <td>0.0</td>\n",
              "      <td>1</td>\n",
              "      <td>5.0</td>\n",
              "      <td>2013.0</td>\n",
              "      <td>Feb,May,Aug,Nov</td>\n",
              "    </tr>\n",
              "  </tbody>\n",
              "</table>\n",
              "<p>1017209 rows × 22 columns</p>\n",
              "</div>"
            ],
            "text/plain": [
              "         Weekdays  Weeks  ...  Promo2SinceYear    PromoInterval\n",
              "0               1     23  ...              0.0  Jan,Apr,Jul,Oct\n",
              "1               1     23  ...           2014.0  Jan,Apr,Jul,Oct\n",
              "2               1     23  ...           2011.0  Jan,Apr,Jul,Oct\n",
              "3               1     23  ...              0.0  Jan,Apr,Jul,Oct\n",
              "4               1     23  ...              0.0  Jan,Apr,Jul,Oct\n",
              "...           ...    ...  ...              ...              ...\n",
              "1017204         1     23  ...           2011.0  Jan,Apr,Jul,Oct\n",
              "1017205         1     23  ...              0.0  Jan,Apr,Jul,Oct\n",
              "1017206         1     23  ...           2009.0  Feb,May,Aug,Nov\n",
              "1017207         1     23  ...              0.0  Jan,Apr,Jul,Oct\n",
              "1017208         1     23  ...           2013.0  Feb,May,Aug,Nov\n",
              "\n",
              "[1017209 rows x 22 columns]"
            ]
          },
          "metadata": {
            "tags": []
          },
          "execution_count": 18
        }
      ]
    },
    {
      "cell_type": "code",
      "metadata": {
        "id": "PJQ9ySUEyIWj",
        "colab_type": "code",
        "colab": {}
      },
      "source": [
        "#Adding salespercustomer column\n",
        "train_data['SalesperCustomer']=train_data['Sales']/train_data['Customers']"
      ],
      "execution_count": 19,
      "outputs": []
    },
    {
      "cell_type": "code",
      "metadata": {
        "id": "B3p96tZDBB4C",
        "colab_type": "code",
        "colab": {}
      },
      "source": [
        "train_data[\"Date\"]=pd.to_datetime(train_data[\"Date\"])\n",
        "train_data['Year']=train_data.Date.dt.year\n",
        "train_data['Day']=train_data.Date.dt.day"
      ],
      "execution_count": 20,
      "outputs": []
    },
    {
      "cell_type": "code",
      "metadata": {
        "id": "A-mbeVgWxbyG",
        "colab_type": "code",
        "colab": {}
      },
      "source": [
        "#Now we delete the date column since we have its year, months and day\n",
        "del train_data[\"Date\"]"
      ],
      "execution_count": 21,
      "outputs": []
    },
    {
      "cell_type": "code",
      "metadata": {
        "id": "544i848SBEAr",
        "colab_type": "code",
        "colab": {
          "base_uri": "https://localhost:8080/",
          "height": 141
        },
        "outputId": "b4aa6fee-cfda-416a-8beb-1f363150385a"
      },
      "source": [
        "train_data.columns"
      ],
      "execution_count": 22,
      "outputs": [
        {
          "output_type": "execute_result",
          "data": {
            "text/plain": [
              "Index(['Weekdays', 'Weeks', 'Months', 'Store', 'DayOfWeek', 'Sales',\n",
              "       'Customers', 'Open', 'Promo', 'StateHoliday', 'SchoolHoliday',\n",
              "       'Store-1', 'StoreType', 'Assortment', 'CompetitionDistance',\n",
              "       'CompetitionOpenSinceMonth', 'CompetitionOpenSinceYear', 'Promo2',\n",
              "       'Promo2SinceWeek', 'Promo2SinceYear', 'PromoInterval',\n",
              "       'SalesperCustomer', 'Year', 'Day'],\n",
              "      dtype='object')"
            ]
          },
          "metadata": {
            "tags": []
          },
          "execution_count": 22
        }
      ]
    },
    {
      "cell_type": "code",
      "metadata": {
        "id": "iG6JQsKu0Qpe",
        "colab_type": "code",
        "colab": {}
      },
      "source": [
        "train_data['CompetitionOpenSince'] = np.where((train_data['CompetitionOpenSinceMonth']==0) & (train_data['CompetitionOpenSinceYear']==0) , 0,(train_data.Months - train_data.CompetitionOpenSinceMonth) + \n",
        "                                       (12 * (train_data.Year - train_data.CompetitionOpenSinceYear)) )\n"
      ],
      "execution_count": 23,
      "outputs": []
    },
    {
      "cell_type": "code",
      "metadata": {
        "id": "RoI9AN5H1np9",
        "colab_type": "code",
        "colab": {}
      },
      "source": [
        "#now that CompetitionOpenSince is created \n",
        "#we can get rid of `CompetitionOpenSinceYear` and `CompeitionOpenSinceMonth`\n",
        "del train_data['CompetitionOpenSinceYear']\n",
        "del train_data['CompetitionOpenSinceMonth']"
      ],
      "execution_count": 24,
      "outputs": []
    },
    {
      "cell_type": "code",
      "metadata": {
        "id": "lvDQ17Gu0vXI",
        "colab_type": "code",
        "colab": {
          "base_uri": "https://localhost:8080/",
          "height": 436
        },
        "outputId": "9a709b53-b63b-4197-fe75-7c1e21d9ac71"
      },
      "source": [
        "train_data"
      ],
      "execution_count": 25,
      "outputs": [
        {
          "output_type": "execute_result",
          "data": {
            "text/html": [
              "<div>\n",
              "<style scoped>\n",
              "    .dataframe tbody tr th:only-of-type {\n",
              "        vertical-align: middle;\n",
              "    }\n",
              "\n",
              "    .dataframe tbody tr th {\n",
              "        vertical-align: top;\n",
              "    }\n",
              "\n",
              "    .dataframe thead th {\n",
              "        text-align: right;\n",
              "    }\n",
              "</style>\n",
              "<table border=\"1\" class=\"dataframe\">\n",
              "  <thead>\n",
              "    <tr style=\"text-align: right;\">\n",
              "      <th></th>\n",
              "      <th>Weekdays</th>\n",
              "      <th>Weeks</th>\n",
              "      <th>Months</th>\n",
              "      <th>Store</th>\n",
              "      <th>DayOfWeek</th>\n",
              "      <th>Sales</th>\n",
              "      <th>Customers</th>\n",
              "      <th>Open</th>\n",
              "      <th>Promo</th>\n",
              "      <th>StateHoliday</th>\n",
              "      <th>SchoolHoliday</th>\n",
              "      <th>Store-1</th>\n",
              "      <th>StoreType</th>\n",
              "      <th>Assortment</th>\n",
              "      <th>CompetitionDistance</th>\n",
              "      <th>Promo2</th>\n",
              "      <th>Promo2SinceWeek</th>\n",
              "      <th>Promo2SinceYear</th>\n",
              "      <th>PromoInterval</th>\n",
              "      <th>SalesperCustomer</th>\n",
              "      <th>Year</th>\n",
              "      <th>Day</th>\n",
              "      <th>CompetitionOpenSince</th>\n",
              "    </tr>\n",
              "  </thead>\n",
              "  <tbody>\n",
              "    <tr>\n",
              "      <th>0</th>\n",
              "      <td>1</td>\n",
              "      <td>23</td>\n",
              "      <td>6</td>\n",
              "      <td>867</td>\n",
              "      <td>3</td>\n",
              "      <td>5608.0</td>\n",
              "      <td>469.0</td>\n",
              "      <td>1</td>\n",
              "      <td>1</td>\n",
              "      <td>0.0</td>\n",
              "      <td>0</td>\n",
              "      <td>867</td>\n",
              "      <td>d</td>\n",
              "      <td>c</td>\n",
              "      <td>21810.0</td>\n",
              "      <td>0</td>\n",
              "      <td>0.0</td>\n",
              "      <td>0.0</td>\n",
              "      <td>Jan,Apr,Jul,Oct</td>\n",
              "      <td>11.957356</td>\n",
              "      <td>2015</td>\n",
              "      <td>3</td>\n",
              "      <td>33.0</td>\n",
              "    </tr>\n",
              "    <tr>\n",
              "      <th>1</th>\n",
              "      <td>1</td>\n",
              "      <td>23</td>\n",
              "      <td>6</td>\n",
              "      <td>868</td>\n",
              "      <td>3</td>\n",
              "      <td>13500.0</td>\n",
              "      <td>816.0</td>\n",
              "      <td>1</td>\n",
              "      <td>1</td>\n",
              "      <td>0.0</td>\n",
              "      <td>0</td>\n",
              "      <td>868</td>\n",
              "      <td>d</td>\n",
              "      <td>c</td>\n",
              "      <td>1360.0</td>\n",
              "      <td>1</td>\n",
              "      <td>10.0</td>\n",
              "      <td>2014.0</td>\n",
              "      <td>Jan,Apr,Jul,Oct</td>\n",
              "      <td>16.544118</td>\n",
              "      <td>2015</td>\n",
              "      <td>3</td>\n",
              "      <td>118.0</td>\n",
              "    </tr>\n",
              "    <tr>\n",
              "      <th>2</th>\n",
              "      <td>1</td>\n",
              "      <td>23</td>\n",
              "      <td>6</td>\n",
              "      <td>869</td>\n",
              "      <td>3</td>\n",
              "      <td>7007.0</td>\n",
              "      <td>932.0</td>\n",
              "      <td>1</td>\n",
              "      <td>1</td>\n",
              "      <td>0.0</td>\n",
              "      <td>0</td>\n",
              "      <td>869</td>\n",
              "      <td>c</td>\n",
              "      <td>a</td>\n",
              "      <td>230.0</td>\n",
              "      <td>1</td>\n",
              "      <td>14.0</td>\n",
              "      <td>2011.0</td>\n",
              "      <td>Jan,Apr,Jul,Oct</td>\n",
              "      <td>7.518240</td>\n",
              "      <td>2015</td>\n",
              "      <td>3</td>\n",
              "      <td>164.0</td>\n",
              "    </tr>\n",
              "    <tr>\n",
              "      <th>3</th>\n",
              "      <td>1</td>\n",
              "      <td>23</td>\n",
              "      <td>6</td>\n",
              "      <td>870</td>\n",
              "      <td>3</td>\n",
              "      <td>7911.0</td>\n",
              "      <td>971.0</td>\n",
              "      <td>1</td>\n",
              "      <td>1</td>\n",
              "      <td>0.0</td>\n",
              "      <td>0</td>\n",
              "      <td>870</td>\n",
              "      <td>a</td>\n",
              "      <td>a</td>\n",
              "      <td>780.0</td>\n",
              "      <td>0</td>\n",
              "      <td>0.0</td>\n",
              "      <td>0.0</td>\n",
              "      <td>Jan,Apr,Jul,Oct</td>\n",
              "      <td>8.147271</td>\n",
              "      <td>2015</td>\n",
              "      <td>3</td>\n",
              "      <td>74.0</td>\n",
              "    </tr>\n",
              "    <tr>\n",
              "      <th>4</th>\n",
              "      <td>1</td>\n",
              "      <td>23</td>\n",
              "      <td>6</td>\n",
              "      <td>871</td>\n",
              "      <td>3</td>\n",
              "      <td>9198.0</td>\n",
              "      <td>678.0</td>\n",
              "      <td>1</td>\n",
              "      <td>1</td>\n",
              "      <td>0.0</td>\n",
              "      <td>0</td>\n",
              "      <td>871</td>\n",
              "      <td>d</td>\n",
              "      <td>c</td>\n",
              "      <td>10620.0</td>\n",
              "      <td>0</td>\n",
              "      <td>0.0</td>\n",
              "      <td>0.0</td>\n",
              "      <td>Jan,Apr,Jul,Oct</td>\n",
              "      <td>13.566372</td>\n",
              "      <td>2015</td>\n",
              "      <td>3</td>\n",
              "      <td>0.0</td>\n",
              "    </tr>\n",
              "    <tr>\n",
              "      <th>...</th>\n",
              "      <td>...</td>\n",
              "      <td>...</td>\n",
              "      <td>...</td>\n",
              "      <td>...</td>\n",
              "      <td>...</td>\n",
              "      <td>...</td>\n",
              "      <td>...</td>\n",
              "      <td>...</td>\n",
              "      <td>...</td>\n",
              "      <td>...</td>\n",
              "      <td>...</td>\n",
              "      <td>...</td>\n",
              "      <td>...</td>\n",
              "      <td>...</td>\n",
              "      <td>...</td>\n",
              "      <td>...</td>\n",
              "      <td>...</td>\n",
              "      <td>...</td>\n",
              "      <td>...</td>\n",
              "      <td>...</td>\n",
              "      <td>...</td>\n",
              "      <td>...</td>\n",
              "      <td>...</td>\n",
              "    </tr>\n",
              "    <tr>\n",
              "      <th>1017204</th>\n",
              "      <td>1</td>\n",
              "      <td>23</td>\n",
              "      <td>6</td>\n",
              "      <td>862</td>\n",
              "      <td>3</td>\n",
              "      <td>10053.0</td>\n",
              "      <td>1227.0</td>\n",
              "      <td>1</td>\n",
              "      <td>1</td>\n",
              "      <td>0.0</td>\n",
              "      <td>0</td>\n",
              "      <td>862</td>\n",
              "      <td>a</td>\n",
              "      <td>c</td>\n",
              "      <td>2840.0</td>\n",
              "      <td>1</td>\n",
              "      <td>14.0</td>\n",
              "      <td>2011.0</td>\n",
              "      <td>Jan,Apr,Jul,Oct</td>\n",
              "      <td>8.193154</td>\n",
              "      <td>2015</td>\n",
              "      <td>3</td>\n",
              "      <td>63.0</td>\n",
              "    </tr>\n",
              "    <tr>\n",
              "      <th>1017205</th>\n",
              "      <td>1</td>\n",
              "      <td>23</td>\n",
              "      <td>6</td>\n",
              "      <td>863</td>\n",
              "      <td>3</td>\n",
              "      <td>8949.0</td>\n",
              "      <td>1043.0</td>\n",
              "      <td>1</td>\n",
              "      <td>1</td>\n",
              "      <td>0.0</td>\n",
              "      <td>0</td>\n",
              "      <td>863</td>\n",
              "      <td>a</td>\n",
              "      <td>c</td>\n",
              "      <td>21370.0</td>\n",
              "      <td>0</td>\n",
              "      <td>0.0</td>\n",
              "      <td>0.0</td>\n",
              "      <td>Jan,Apr,Jul,Oct</td>\n",
              "      <td>8.580058</td>\n",
              "      <td>2015</td>\n",
              "      <td>3</td>\n",
              "      <td>55.0</td>\n",
              "    </tr>\n",
              "    <tr>\n",
              "      <th>1017206</th>\n",
              "      <td>1</td>\n",
              "      <td>23</td>\n",
              "      <td>6</td>\n",
              "      <td>864</td>\n",
              "      <td>3</td>\n",
              "      <td>6076.0</td>\n",
              "      <td>780.0</td>\n",
              "      <td>1</td>\n",
              "      <td>1</td>\n",
              "      <td>0.0</td>\n",
              "      <td>1</td>\n",
              "      <td>864</td>\n",
              "      <td>a</td>\n",
              "      <td>a</td>\n",
              "      <td>1020.0</td>\n",
              "      <td>1</td>\n",
              "      <td>45.0</td>\n",
              "      <td>2009.0</td>\n",
              "      <td>Feb,May,Aug,Nov</td>\n",
              "      <td>7.789744</td>\n",
              "      <td>2015</td>\n",
              "      <td>3</td>\n",
              "      <td>32.0</td>\n",
              "    </tr>\n",
              "    <tr>\n",
              "      <th>1017207</th>\n",
              "      <td>1</td>\n",
              "      <td>23</td>\n",
              "      <td>6</td>\n",
              "      <td>865</td>\n",
              "      <td>3</td>\n",
              "      <td>11384.0</td>\n",
              "      <td>817.0</td>\n",
              "      <td>1</td>\n",
              "      <td>1</td>\n",
              "      <td>0.0</td>\n",
              "      <td>0</td>\n",
              "      <td>865</td>\n",
              "      <td>d</td>\n",
              "      <td>c</td>\n",
              "      <td>2640.0</td>\n",
              "      <td>0</td>\n",
              "      <td>0.0</td>\n",
              "      <td>0.0</td>\n",
              "      <td>Jan,Apr,Jul,Oct</td>\n",
              "      <td>13.933905</td>\n",
              "      <td>2015</td>\n",
              "      <td>3</td>\n",
              "      <td>0.0</td>\n",
              "    </tr>\n",
              "    <tr>\n",
              "      <th>1017208</th>\n",
              "      <td>1</td>\n",
              "      <td>23</td>\n",
              "      <td>6</td>\n",
              "      <td>866</td>\n",
              "      <td>3</td>\n",
              "      <td>8937.0</td>\n",
              "      <td>608.0</td>\n",
              "      <td>1</td>\n",
              "      <td>1</td>\n",
              "      <td>0.0</td>\n",
              "      <td>0</td>\n",
              "      <td>866</td>\n",
              "      <td>d</td>\n",
              "      <td>a</td>\n",
              "      <td>9680.0</td>\n",
              "      <td>1</td>\n",
              "      <td>5.0</td>\n",
              "      <td>2013.0</td>\n",
              "      <td>Feb,May,Aug,Nov</td>\n",
              "      <td>14.699013</td>\n",
              "      <td>2015</td>\n",
              "      <td>3</td>\n",
              "      <td>0.0</td>\n",
              "    </tr>\n",
              "  </tbody>\n",
              "</table>\n",
              "<p>1017209 rows × 23 columns</p>\n",
              "</div>"
            ],
            "text/plain": [
              "         Weekdays  Weeks  Months  ...  Year  Day  CompetitionOpenSince\n",
              "0               1     23       6  ...  2015    3                  33.0\n",
              "1               1     23       6  ...  2015    3                 118.0\n",
              "2               1     23       6  ...  2015    3                 164.0\n",
              "3               1     23       6  ...  2015    3                  74.0\n",
              "4               1     23       6  ...  2015    3                   0.0\n",
              "...           ...    ...     ...  ...   ...  ...                   ...\n",
              "1017204         1     23       6  ...  2015    3                  63.0\n",
              "1017205         1     23       6  ...  2015    3                  55.0\n",
              "1017206         1     23       6  ...  2015    3                  32.0\n",
              "1017207         1     23       6  ...  2015    3                   0.0\n",
              "1017208         1     23       6  ...  2015    3                   0.0\n",
              "\n",
              "[1017209 rows x 23 columns]"
            ]
          },
          "metadata": {
            "tags": []
          },
          "execution_count": 25
        }
      ]
    },
    {
      "cell_type": "markdown",
      "metadata": {
        "id": "QRlBa-681Y0A",
        "colab_type": "text"
      },
      "source": [
        "* I think it's always better when working with decision tree based models to have dummy variables instead of categorical with different levels, because this alters the bias of the algorithm who will favor a higher weight to the categories like 4 and deprioritize levels like 1. And this problem could rise in the variables Assortment and StoreType and PromoInterval. So far those are the codes we have for each variable:\n",
        "\n",
        "* That's why i use the get_dummies function to instead do a binary encoding and prevent this."
      ]
    },
    {
      "cell_type": "code",
      "metadata": {
        "id": "UzX2NhGA1qys",
        "colab_type": "code",
        "colab": {}
      },
      "source": [
        "train_data=pd.get_dummies(train_data, columns=[\"Assortment\", \"StoreType\",\"PromoInterval\"], prefix=[\"is_Assortment\", \"is_StoreType\",\"is_PromoInteval\"])"
      ],
      "execution_count": 26,
      "outputs": []
    },
    {
      "cell_type": "code",
      "metadata": {
        "id": "zd5azwQK2jTc",
        "colab_type": "code",
        "colab": {
          "base_uri": "https://localhost:8080/",
          "height": 436
        },
        "outputId": "997b8485-b7ea-4d59-a4e8-ca827a259ec1"
      },
      "source": [
        "train_data"
      ],
      "execution_count": 27,
      "outputs": [
        {
          "output_type": "execute_result",
          "data": {
            "text/html": [
              "<div>\n",
              "<style scoped>\n",
              "    .dataframe tbody tr th:only-of-type {\n",
              "        vertical-align: middle;\n",
              "    }\n",
              "\n",
              "    .dataframe tbody tr th {\n",
              "        vertical-align: top;\n",
              "    }\n",
              "\n",
              "    .dataframe thead th {\n",
              "        text-align: right;\n",
              "    }\n",
              "</style>\n",
              "<table border=\"1\" class=\"dataframe\">\n",
              "  <thead>\n",
              "    <tr style=\"text-align: right;\">\n",
              "      <th></th>\n",
              "      <th>Weekdays</th>\n",
              "      <th>Weeks</th>\n",
              "      <th>Months</th>\n",
              "      <th>Store</th>\n",
              "      <th>DayOfWeek</th>\n",
              "      <th>Sales</th>\n",
              "      <th>Customers</th>\n",
              "      <th>Open</th>\n",
              "      <th>Promo</th>\n",
              "      <th>StateHoliday</th>\n",
              "      <th>SchoolHoliday</th>\n",
              "      <th>Store-1</th>\n",
              "      <th>CompetitionDistance</th>\n",
              "      <th>Promo2</th>\n",
              "      <th>Promo2SinceWeek</th>\n",
              "      <th>Promo2SinceYear</th>\n",
              "      <th>SalesperCustomer</th>\n",
              "      <th>Year</th>\n",
              "      <th>Day</th>\n",
              "      <th>CompetitionOpenSince</th>\n",
              "      <th>is_Assortment_a</th>\n",
              "      <th>is_Assortment_b</th>\n",
              "      <th>is_Assortment_c</th>\n",
              "      <th>is_StoreType_a</th>\n",
              "      <th>is_StoreType_b</th>\n",
              "      <th>is_StoreType_c</th>\n",
              "      <th>is_StoreType_d</th>\n",
              "      <th>is_PromoInteval_Feb,May,Aug,Nov</th>\n",
              "      <th>is_PromoInteval_Jan,Apr,Jul,Oct</th>\n",
              "      <th>is_PromoInteval_Mar,Jun,Sept,Dec</th>\n",
              "    </tr>\n",
              "  </thead>\n",
              "  <tbody>\n",
              "    <tr>\n",
              "      <th>0</th>\n",
              "      <td>1</td>\n",
              "      <td>23</td>\n",
              "      <td>6</td>\n",
              "      <td>867</td>\n",
              "      <td>3</td>\n",
              "      <td>5608.0</td>\n",
              "      <td>469.0</td>\n",
              "      <td>1</td>\n",
              "      <td>1</td>\n",
              "      <td>0.0</td>\n",
              "      <td>0</td>\n",
              "      <td>867</td>\n",
              "      <td>21810.0</td>\n",
              "      <td>0</td>\n",
              "      <td>0.0</td>\n",
              "      <td>0.0</td>\n",
              "      <td>11.957356</td>\n",
              "      <td>2015</td>\n",
              "      <td>3</td>\n",
              "      <td>33.0</td>\n",
              "      <td>0</td>\n",
              "      <td>0</td>\n",
              "      <td>1</td>\n",
              "      <td>0</td>\n",
              "      <td>0</td>\n",
              "      <td>0</td>\n",
              "      <td>1</td>\n",
              "      <td>0</td>\n",
              "      <td>1</td>\n",
              "      <td>0</td>\n",
              "    </tr>\n",
              "    <tr>\n",
              "      <th>1</th>\n",
              "      <td>1</td>\n",
              "      <td>23</td>\n",
              "      <td>6</td>\n",
              "      <td>868</td>\n",
              "      <td>3</td>\n",
              "      <td>13500.0</td>\n",
              "      <td>816.0</td>\n",
              "      <td>1</td>\n",
              "      <td>1</td>\n",
              "      <td>0.0</td>\n",
              "      <td>0</td>\n",
              "      <td>868</td>\n",
              "      <td>1360.0</td>\n",
              "      <td>1</td>\n",
              "      <td>10.0</td>\n",
              "      <td>2014.0</td>\n",
              "      <td>16.544118</td>\n",
              "      <td>2015</td>\n",
              "      <td>3</td>\n",
              "      <td>118.0</td>\n",
              "      <td>0</td>\n",
              "      <td>0</td>\n",
              "      <td>1</td>\n",
              "      <td>0</td>\n",
              "      <td>0</td>\n",
              "      <td>0</td>\n",
              "      <td>1</td>\n",
              "      <td>0</td>\n",
              "      <td>1</td>\n",
              "      <td>0</td>\n",
              "    </tr>\n",
              "    <tr>\n",
              "      <th>2</th>\n",
              "      <td>1</td>\n",
              "      <td>23</td>\n",
              "      <td>6</td>\n",
              "      <td>869</td>\n",
              "      <td>3</td>\n",
              "      <td>7007.0</td>\n",
              "      <td>932.0</td>\n",
              "      <td>1</td>\n",
              "      <td>1</td>\n",
              "      <td>0.0</td>\n",
              "      <td>0</td>\n",
              "      <td>869</td>\n",
              "      <td>230.0</td>\n",
              "      <td>1</td>\n",
              "      <td>14.0</td>\n",
              "      <td>2011.0</td>\n",
              "      <td>7.518240</td>\n",
              "      <td>2015</td>\n",
              "      <td>3</td>\n",
              "      <td>164.0</td>\n",
              "      <td>1</td>\n",
              "      <td>0</td>\n",
              "      <td>0</td>\n",
              "      <td>0</td>\n",
              "      <td>0</td>\n",
              "      <td>1</td>\n",
              "      <td>0</td>\n",
              "      <td>0</td>\n",
              "      <td>1</td>\n",
              "      <td>0</td>\n",
              "    </tr>\n",
              "    <tr>\n",
              "      <th>3</th>\n",
              "      <td>1</td>\n",
              "      <td>23</td>\n",
              "      <td>6</td>\n",
              "      <td>870</td>\n",
              "      <td>3</td>\n",
              "      <td>7911.0</td>\n",
              "      <td>971.0</td>\n",
              "      <td>1</td>\n",
              "      <td>1</td>\n",
              "      <td>0.0</td>\n",
              "      <td>0</td>\n",
              "      <td>870</td>\n",
              "      <td>780.0</td>\n",
              "      <td>0</td>\n",
              "      <td>0.0</td>\n",
              "      <td>0.0</td>\n",
              "      <td>8.147271</td>\n",
              "      <td>2015</td>\n",
              "      <td>3</td>\n",
              "      <td>74.0</td>\n",
              "      <td>1</td>\n",
              "      <td>0</td>\n",
              "      <td>0</td>\n",
              "      <td>1</td>\n",
              "      <td>0</td>\n",
              "      <td>0</td>\n",
              "      <td>0</td>\n",
              "      <td>0</td>\n",
              "      <td>1</td>\n",
              "      <td>0</td>\n",
              "    </tr>\n",
              "    <tr>\n",
              "      <th>4</th>\n",
              "      <td>1</td>\n",
              "      <td>23</td>\n",
              "      <td>6</td>\n",
              "      <td>871</td>\n",
              "      <td>3</td>\n",
              "      <td>9198.0</td>\n",
              "      <td>678.0</td>\n",
              "      <td>1</td>\n",
              "      <td>1</td>\n",
              "      <td>0.0</td>\n",
              "      <td>0</td>\n",
              "      <td>871</td>\n",
              "      <td>10620.0</td>\n",
              "      <td>0</td>\n",
              "      <td>0.0</td>\n",
              "      <td>0.0</td>\n",
              "      <td>13.566372</td>\n",
              "      <td>2015</td>\n",
              "      <td>3</td>\n",
              "      <td>0.0</td>\n",
              "      <td>0</td>\n",
              "      <td>0</td>\n",
              "      <td>1</td>\n",
              "      <td>0</td>\n",
              "      <td>0</td>\n",
              "      <td>0</td>\n",
              "      <td>1</td>\n",
              "      <td>0</td>\n",
              "      <td>1</td>\n",
              "      <td>0</td>\n",
              "    </tr>\n",
              "    <tr>\n",
              "      <th>...</th>\n",
              "      <td>...</td>\n",
              "      <td>...</td>\n",
              "      <td>...</td>\n",
              "      <td>...</td>\n",
              "      <td>...</td>\n",
              "      <td>...</td>\n",
              "      <td>...</td>\n",
              "      <td>...</td>\n",
              "      <td>...</td>\n",
              "      <td>...</td>\n",
              "      <td>...</td>\n",
              "      <td>...</td>\n",
              "      <td>...</td>\n",
              "      <td>...</td>\n",
              "      <td>...</td>\n",
              "      <td>...</td>\n",
              "      <td>...</td>\n",
              "      <td>...</td>\n",
              "      <td>...</td>\n",
              "      <td>...</td>\n",
              "      <td>...</td>\n",
              "      <td>...</td>\n",
              "      <td>...</td>\n",
              "      <td>...</td>\n",
              "      <td>...</td>\n",
              "      <td>...</td>\n",
              "      <td>...</td>\n",
              "      <td>...</td>\n",
              "      <td>...</td>\n",
              "      <td>...</td>\n",
              "    </tr>\n",
              "    <tr>\n",
              "      <th>1017204</th>\n",
              "      <td>1</td>\n",
              "      <td>23</td>\n",
              "      <td>6</td>\n",
              "      <td>862</td>\n",
              "      <td>3</td>\n",
              "      <td>10053.0</td>\n",
              "      <td>1227.0</td>\n",
              "      <td>1</td>\n",
              "      <td>1</td>\n",
              "      <td>0.0</td>\n",
              "      <td>0</td>\n",
              "      <td>862</td>\n",
              "      <td>2840.0</td>\n",
              "      <td>1</td>\n",
              "      <td>14.0</td>\n",
              "      <td>2011.0</td>\n",
              "      <td>8.193154</td>\n",
              "      <td>2015</td>\n",
              "      <td>3</td>\n",
              "      <td>63.0</td>\n",
              "      <td>0</td>\n",
              "      <td>0</td>\n",
              "      <td>1</td>\n",
              "      <td>1</td>\n",
              "      <td>0</td>\n",
              "      <td>0</td>\n",
              "      <td>0</td>\n",
              "      <td>0</td>\n",
              "      <td>1</td>\n",
              "      <td>0</td>\n",
              "    </tr>\n",
              "    <tr>\n",
              "      <th>1017205</th>\n",
              "      <td>1</td>\n",
              "      <td>23</td>\n",
              "      <td>6</td>\n",
              "      <td>863</td>\n",
              "      <td>3</td>\n",
              "      <td>8949.0</td>\n",
              "      <td>1043.0</td>\n",
              "      <td>1</td>\n",
              "      <td>1</td>\n",
              "      <td>0.0</td>\n",
              "      <td>0</td>\n",
              "      <td>863</td>\n",
              "      <td>21370.0</td>\n",
              "      <td>0</td>\n",
              "      <td>0.0</td>\n",
              "      <td>0.0</td>\n",
              "      <td>8.580058</td>\n",
              "      <td>2015</td>\n",
              "      <td>3</td>\n",
              "      <td>55.0</td>\n",
              "      <td>0</td>\n",
              "      <td>0</td>\n",
              "      <td>1</td>\n",
              "      <td>1</td>\n",
              "      <td>0</td>\n",
              "      <td>0</td>\n",
              "      <td>0</td>\n",
              "      <td>0</td>\n",
              "      <td>1</td>\n",
              "      <td>0</td>\n",
              "    </tr>\n",
              "    <tr>\n",
              "      <th>1017206</th>\n",
              "      <td>1</td>\n",
              "      <td>23</td>\n",
              "      <td>6</td>\n",
              "      <td>864</td>\n",
              "      <td>3</td>\n",
              "      <td>6076.0</td>\n",
              "      <td>780.0</td>\n",
              "      <td>1</td>\n",
              "      <td>1</td>\n",
              "      <td>0.0</td>\n",
              "      <td>1</td>\n",
              "      <td>864</td>\n",
              "      <td>1020.0</td>\n",
              "      <td>1</td>\n",
              "      <td>45.0</td>\n",
              "      <td>2009.0</td>\n",
              "      <td>7.789744</td>\n",
              "      <td>2015</td>\n",
              "      <td>3</td>\n",
              "      <td>32.0</td>\n",
              "      <td>1</td>\n",
              "      <td>0</td>\n",
              "      <td>0</td>\n",
              "      <td>1</td>\n",
              "      <td>0</td>\n",
              "      <td>0</td>\n",
              "      <td>0</td>\n",
              "      <td>1</td>\n",
              "      <td>0</td>\n",
              "      <td>0</td>\n",
              "    </tr>\n",
              "    <tr>\n",
              "      <th>1017207</th>\n",
              "      <td>1</td>\n",
              "      <td>23</td>\n",
              "      <td>6</td>\n",
              "      <td>865</td>\n",
              "      <td>3</td>\n",
              "      <td>11384.0</td>\n",
              "      <td>817.0</td>\n",
              "      <td>1</td>\n",
              "      <td>1</td>\n",
              "      <td>0.0</td>\n",
              "      <td>0</td>\n",
              "      <td>865</td>\n",
              "      <td>2640.0</td>\n",
              "      <td>0</td>\n",
              "      <td>0.0</td>\n",
              "      <td>0.0</td>\n",
              "      <td>13.933905</td>\n",
              "      <td>2015</td>\n",
              "      <td>3</td>\n",
              "      <td>0.0</td>\n",
              "      <td>0</td>\n",
              "      <td>0</td>\n",
              "      <td>1</td>\n",
              "      <td>0</td>\n",
              "      <td>0</td>\n",
              "      <td>0</td>\n",
              "      <td>1</td>\n",
              "      <td>0</td>\n",
              "      <td>1</td>\n",
              "      <td>0</td>\n",
              "    </tr>\n",
              "    <tr>\n",
              "      <th>1017208</th>\n",
              "      <td>1</td>\n",
              "      <td>23</td>\n",
              "      <td>6</td>\n",
              "      <td>866</td>\n",
              "      <td>3</td>\n",
              "      <td>8937.0</td>\n",
              "      <td>608.0</td>\n",
              "      <td>1</td>\n",
              "      <td>1</td>\n",
              "      <td>0.0</td>\n",
              "      <td>0</td>\n",
              "      <td>866</td>\n",
              "      <td>9680.0</td>\n",
              "      <td>1</td>\n",
              "      <td>5.0</td>\n",
              "      <td>2013.0</td>\n",
              "      <td>14.699013</td>\n",
              "      <td>2015</td>\n",
              "      <td>3</td>\n",
              "      <td>0.0</td>\n",
              "      <td>1</td>\n",
              "      <td>0</td>\n",
              "      <td>0</td>\n",
              "      <td>0</td>\n",
              "      <td>0</td>\n",
              "      <td>0</td>\n",
              "      <td>1</td>\n",
              "      <td>1</td>\n",
              "      <td>0</td>\n",
              "      <td>0</td>\n",
              "    </tr>\n",
              "  </tbody>\n",
              "</table>\n",
              "<p>1017209 rows × 30 columns</p>\n",
              "</div>"
            ],
            "text/plain": [
              "         Weekdays  ...  is_PromoInteval_Mar,Jun,Sept,Dec\n",
              "0               1  ...                                 0\n",
              "1               1  ...                                 0\n",
              "2               1  ...                                 0\n",
              "3               1  ...                                 0\n",
              "4               1  ...                                 0\n",
              "...           ...  ...                               ...\n",
              "1017204         1  ...                                 0\n",
              "1017205         1  ...                                 0\n",
              "1017206         1  ...                                 0\n",
              "1017207         1  ...                                 0\n",
              "1017208         1  ...                                 0\n",
              "\n",
              "[1017209 rows x 30 columns]"
            ]
          },
          "metadata": {
            "tags": []
          },
          "execution_count": 27
        }
      ]
    },
    {
      "cell_type": "markdown",
      "metadata": {
        "id": "L_0OEoLpFZ6Z",
        "colab_type": "text"
      },
      "source": [
        "1.4 **Data Scaling and Data Encoding**"
      ]
    },
    {
      "cell_type": "code",
      "metadata": {
        "id": "7CUCtWYIFly4",
        "colab_type": "code",
        "colab": {
          "base_uri": "https://localhost:8080/",
          "height": 568
        },
        "outputId": "ded25727-59c4-4b68-d6c6-e40d6c57b532"
      },
      "source": [
        "train_data.dtypes"
      ],
      "execution_count": 28,
      "outputs": [
        {
          "output_type": "execute_result",
          "data": {
            "text/plain": [
              "Weekdays                              int64\n",
              "Weeks                                 int64\n",
              "Months                                int64\n",
              "Store                                 int64\n",
              "DayOfWeek                             int64\n",
              "Sales                               float64\n",
              "Customers                           float64\n",
              "Open                                  int64\n",
              "Promo                                 int64\n",
              "StateHoliday                        float64\n",
              "SchoolHoliday                         int64\n",
              "Store-1                               int64\n",
              "CompetitionDistance                 float64\n",
              "Promo2                                int64\n",
              "Promo2SinceWeek                     float64\n",
              "Promo2SinceYear                     float64\n",
              "SalesperCustomer                    float64\n",
              "Year                                  int64\n",
              "Day                                   int64\n",
              "CompetitionOpenSince                float64\n",
              "is_Assortment_a                       uint8\n",
              "is_Assortment_b                       uint8\n",
              "is_Assortment_c                       uint8\n",
              "is_StoreType_a                        uint8\n",
              "is_StoreType_b                        uint8\n",
              "is_StoreType_c                        uint8\n",
              "is_StoreType_d                        uint8\n",
              "is_PromoInteval_Feb,May,Aug,Nov       uint8\n",
              "is_PromoInteval_Jan,Apr,Jul,Oct       uint8\n",
              "is_PromoInteval_Mar,Jun,Sept,Dec      uint8\n",
              "dtype: object"
            ]
          },
          "metadata": {
            "tags": []
          },
          "execution_count": 28
        }
      ]
    },
    {
      "cell_type": "markdown",
      "metadata": {
        "id": "-FCg9_wZHaOC",
        "colab_type": "text"
      },
      "source": [
        "So far we have taken care of the missing values and the categorical (string) variables in the data. Next we will work with the continuous variables. Often the continuous variables in the data have different scales, for instance, a variable V1 can have a range from 0 to 1 while another variable can have a range from 0-1000.\n",
        "\n",
        "Based on the type of model you are building, you will have to normalize the data in such a way that the range of all the variables is almost similar. You can do this easily in python using the StandardScaler function.\n",
        "For this project we will be using Random Forest Regressor"
      ]
    },
    {
      "cell_type": "code",
      "metadata": {
        "id": "VuV4dD8fHtAj",
        "colab_type": "code",
        "colab": {}
      },
      "source": [
        ""
      ],
      "execution_count": 28,
      "outputs": []
    },
    {
      "cell_type": "markdown",
      "metadata": {
        "id": "QNKGZ2QqBlB_",
        "colab_type": "text"
      },
      "source": [
        "**2. Building models with sklearn pipelines**"
      ]
    },
    {
      "cell_type": "code",
      "metadata": {
        "id": "KrX24uvpBy9k",
        "colab_type": "code",
        "colab": {
          "base_uri": "https://localhost:8080/",
          "height": 52
        },
        "outputId": "e1082a1b-584a-40bc-e573-af9981875021"
      },
      "source": [
        "## separate the independent and target variable \n",
        "features = train_data.drop(['Customers', 'Sales', 'SalesperCustomer'], axis = 1) \n",
        "#a rule of thumb is to transform my target value to log if i see the values are very dispersed which is the case\n",
        "#and then of course revert them with np.exp to their real values\n",
        "targets=np.log(train_data.Sales)"
      ],
      "execution_count": 29,
      "outputs": [
        {
          "output_type": "stream",
          "text": [
            "/usr/local/lib/python3.6/dist-packages/pandas/core/series.py:679: RuntimeWarning: divide by zero encountered in log\n",
            "  result = getattr(ufunc, method)(*inputs, **kwargs)\n"
          ],
          "name": "stderr"
        }
      ]
    },
    {
      "cell_type": "markdown",
      "metadata": {
        "id": "PnIYBEtg6QJr",
        "colab_type": "text"
      },
      "source": [
        "**Developing The Model: Shuffle and Split Data with Cross Validation, Grid Search and Fitting the model:**"
      ]
    },
    {
      "cell_type": "markdown",
      "metadata": {
        "id": "lwS9tUZq6XcO",
        "colab_type": "text"
      },
      "source": [
        "A crucial Step in Machine Learning is to make sure your model is robust by testing it on a small part of your dataset we call here train_test set which is usually divided 80% training and 20% validation."
      ]
    },
    {
      "cell_type": "code",
      "metadata": {
        "id": "BQDYXKvM5Rk8",
        "colab_type": "code",
        "colab": {
          "base_uri": "https://localhost:8080/",
          "height": 35
        },
        "outputId": "abcfd9e6-f632-44df-84ec-84198a6abd13"
      },
      "source": [
        "X_train, X_train_test, y_train, y_train_test = model_selection.train_test_split(features, targets, test_size=0.20, random_state=15)\n",
        "print (\"Training and testing split was successful.\")"
      ],
      "execution_count": 30,
      "outputs": [
        {
          "output_type": "stream",
          "text": [
            "Training and testing split was successful.\n"
          ],
          "name": "stdout"
        }
      ]
    },
    {
      "cell_type": "code",
      "metadata": {
        "id": "hfFjZN9f8WNu",
        "colab_type": "code",
        "colab": {}
      },
      "source": [
        "def clean_dataset(df):\n",
        "    assert isinstance(df, pd.DataFrame), \"df needs to be a pd.DataFrame\"\n",
        "    df.dropna(inplace=True)\n",
        "    indices_to_keep = ~df.isin([np.nan, np.inf, -np.inf]).any(1)\n",
        "    return df[indices_to_keep].astype(np.float64)"
      ],
      "execution_count": 31,
      "outputs": []
    },
    {
      "cell_type": "code",
      "metadata": {
        "id": "fVETwSwF7gzY",
        "colab_type": "code",
        "colab": {}
      },
      "source": [
        "del X_train['index']"
      ],
      "execution_count": null,
      "outputs": []
    },
    {
      "cell_type": "code",
      "metadata": {
        "id": "pYsLv-iy9QYx",
        "colab_type": "code",
        "colab": {}
      },
      "source": [
        "y_train = pd.DataFrame(y_train)\n",
        "y_train = y_train.reset_index()"
      ],
      "execution_count": 34,
      "outputs": []
    },
    {
      "cell_type": "code",
      "metadata": {
        "id": "bbplOVaE90XU",
        "colab_type": "code",
        "colab": {}
      },
      "source": [
        "del y_train['index']"
      ],
      "execution_count": 35,
      "outputs": []
    },
    {
      "cell_type": "code",
      "metadata": {
        "id": "uH7oMF9A86E3",
        "colab_type": "code",
        "colab": {}
      },
      "source": [
        "clean_dataset(y_train)"
      ],
      "execution_count": null,
      "outputs": []
    },
    {
      "cell_type": "code",
      "metadata": {
        "id": "7uroGHLK_Dk-",
        "colab_type": "code",
        "colab": {}
      },
      "source": [
        "def _assert_all_finite(X):\n",
        "    \"\"\"Like assert_all_finite, but only for ndarray.\"\"\"\n",
        "    X = np.asanyarray(X)\n",
        "    # First try an O(n) time, O(1) space solution for the common case that\n",
        "    # everything is finite; fall back to O(n) space np.isfinite to prevent\n",
        "    # false positives from overflow in sum method.\n",
        "    if (X.dtype.char in np.typecodes['AllFloat'] and not np.isfinite(X.sum())\n",
        "            and not np.isfinite(X).all()):\n",
        "        raise ValueError(\"Input contains NaN, infinity\"\n",
        "                         \" or a value too large for %r.\" % X.dtype)"
      ],
      "execution_count": 37,
      "outputs": []
    },
    {
      "cell_type": "code",
      "metadata": {
        "id": "iAefvUEW_GGl",
        "colab_type": "code",
        "colab": {}
      },
      "source": [
        "#This is the check on which it fails:\n",
        "_assert_all_finite(y_train)"
      ],
      "execution_count": null,
      "outputs": []
    },
    {
      "cell_type": "code",
      "metadata": {
        "id": "AIDED1g7CRGI",
        "colab_type": "code",
        "colab": {}
      },
      "source": [
        "y_train"
      ],
      "execution_count": null,
      "outputs": []
    },
    {
      "cell_type": "markdown",
      "metadata": {
        "id": "9im6_2OE_9Qu",
        "colab_type": "text"
      },
      "source": [
        "After finding which data has the problem, below is a loop to get which problem is it."
      ]
    },
    {
      "cell_type": "code",
      "metadata": {
        "id": "K4tPKbepAuKu",
        "colab_type": "code",
        "colab": {}
      },
      "source": [
        "print(y_train.shape)\n",
        "index = 0\n",
        "for i in y_train:\n",
        "    if not np.isfinite(i):\n",
        "        print(index, i)\n",
        "    index +=1\n"
      ],
      "execution_count": null,
      "outputs": []
    },
    {
      "cell_type": "code",
      "metadata": {
        "id": "3-dpov5bCyIf",
        "colab_type": "code",
        "colab": {}
      },
      "source": [
        "y_train.replace([np.inf, -np.inf], np.nan, inplace=True)"
      ],
      "execution_count": 41,
      "outputs": []
    },
    {
      "cell_type": "code",
      "metadata": {
        "id": "BQBcsXqSl47H",
        "colab_type": "code",
        "colab": {}
      },
      "source": [
        "y_train_test.replace([np.inf, -np.inf], np.nan, inplace=True)"
      ],
      "execution_count": 51,
      "outputs": []
    },
    {
      "cell_type": "code",
      "metadata": {
        "id": "ootdSkcgC5bm",
        "colab_type": "code",
        "colab": {}
      },
      "source": [
        "y_train.fillna(8.970432, inplace=True)"
      ],
      "execution_count": 42,
      "outputs": []
    },
    {
      "cell_type": "code",
      "metadata": {
        "id": "LOoLUI6YmAAw",
        "colab_type": "code",
        "colab": {}
      },
      "source": [
        "y_train_test.fillna(8.970432, inplace=True)"
      ],
      "execution_count": 52,
      "outputs": []
    },
    {
      "cell_type": "code",
      "metadata": {
        "id": "SZMGzTqRGAwF",
        "colab_type": "code",
        "colab": {}
      },
      "source": [
        "#convert dataframe to numpy array\n",
        "y_train = y_train.to_numpy()"
      ],
      "execution_count": 43,
      "outputs": []
    },
    {
      "cell_type": "code",
      "metadata": {
        "id": "ZWmPeKuQG7T7",
        "colab_type": "code",
        "colab": {}
      },
      "source": [
        "y = y_train.ravel()\n",
        "y_train = np.array(y).astype(int)"
      ],
      "execution_count": null,
      "outputs": []
    },
    {
      "cell_type": "markdown",
      "metadata": {
        "id": "y8jjcNZT7BtP",
        "colab_type": "text"
      },
      "source": [
        "**Setting up the RandomForestRegressor object**"
      ]
    },
    {
      "cell_type": "code",
      "metadata": {
        "id": "eHXzgohXmPYG",
        "colab_type": "code",
        "colab": {}
      },
      "source": [
        "def rmspe(y, result):\n",
        "    rmspe = np.sqrt(np.mean( (y - result)**2 ))\n",
        "    return rmspe"
      ],
      "execution_count": 55,
      "outputs": []
    },
    {
      "cell_type": "code",
      "metadata": {
        "id": "4Rl3eP6p7JfC",
        "colab_type": "code",
        "colab": {
          "base_uri": "https://localhost:8080/",
          "height": 141
        },
        "outputId": "22e8f3c5-b02a-4e14-9177-eaf00afaaedd"
      },
      "source": [
        "RFR = RandomForestRegressor(n_estimators=10, \n",
        "                             criterion='mse', \n",
        "                             max_depth=5, \n",
        "                             min_samples_split=2, \n",
        "                             min_samples_leaf=1, \n",
        "                             min_weight_fraction_leaf=0.0, \n",
        "                             max_features='auto', \n",
        "                             max_leaf_nodes=None, \n",
        "                             min_impurity_decrease=0.0, \n",
        "                             min_impurity_split=None, \n",
        "                             bootstrap=True, \n",
        "                             oob_score=False,\n",
        "                             n_jobs=4,\n",
        "                             random_state=31, \n",
        "                             verbose=0, \n",
        "                             warm_start=False)\n",
        "RFR.fit(X_train, y_train)"
      ],
      "execution_count": 45,
      "outputs": [
        {
          "output_type": "execute_result",
          "data": {
            "text/plain": [
              "RandomForestRegressor(bootstrap=True, ccp_alpha=0.0, criterion='mse',\n",
              "                      max_depth=5, max_features='auto', max_leaf_nodes=None,\n",
              "                      max_samples=None, min_impurity_decrease=0.0,\n",
              "                      min_impurity_split=None, min_samples_leaf=1,\n",
              "                      min_samples_split=2, min_weight_fraction_leaf=0.0,\n",
              "                      n_estimators=10, n_jobs=4, oob_score=False,\n",
              "                      random_state=31, verbose=0, warm_start=False)"
            ]
          },
          "metadata": {
            "tags": []
          },
          "execution_count": 45
        }
      ]
    },
    {
      "cell_type": "code",
      "metadata": {
        "id": "WE0MBxQnFE6Y",
        "colab_type": "code",
        "colab": {
          "base_uri": "https://localhost:8080/",
          "height": 444
        },
        "outputId": "7223be75-6eab-4046-e25d-0ea50c74ed66"
      },
      "source": [
        "\n",
        "params = {'max_depth':(4,6,8,10,12,14,16,20),\n",
        "         'n_estimators':(4,8,16,24,48,72,96,128),\n",
        "         'min_samples_split':(2,4,6,8,10)}\n",
        "#scoring_fnc = metrics.make_scorer(rmspe)\n",
        "#the dimensionality is high, the number of combinations we have to search is enormous, using RandomizedSearchCV \n",
        "# is a better option then GridSearchCV\n",
        "grid = model_selection.RandomizedSearchCV(estimator=RFR,param_distributions=params,cv=5,) \n",
        "#choosing 10 K-Folds makes sure i went through all of the data and didn't miss any pattern.(takes time to run but is worth doing it)\n",
        "grid.fit(X_train, y_train)"
      ],
      "execution_count": 66,
      "outputs": [
        {
          "output_type": "execute_result",
          "data": {
            "text/plain": [
              "RandomizedSearchCV(cv=5, error_score=nan,\n",
              "                   estimator=RandomForestRegressor(bootstrap=True,\n",
              "                                                   ccp_alpha=0.0,\n",
              "                                                   criterion='mse', max_depth=5,\n",
              "                                                   max_features='auto',\n",
              "                                                   max_leaf_nodes=None,\n",
              "                                                   max_samples=None,\n",
              "                                                   min_impurity_decrease=0.0,\n",
              "                                                   min_impurity_split=None,\n",
              "                                                   min_samples_leaf=1,\n",
              "                                                   min_samples_split=2,\n",
              "                                                   min_weight_fraction_leaf=0.0,\n",
              "                                                   n_estimators=10, n_jobs=4,\n",
              "                                                   oob_score=False,\n",
              "                                                   random_state=31, verbose=0,\n",
              "                                                   warm_start=False),\n",
              "                   iid='deprecated', n_iter=10, n_jobs=None,\n",
              "                   param_distributions={'max_depth': (4, 6, 8, 10, 12, 14, 16,\n",
              "                                                      20),\n",
              "                                        'min_samples_split': (2, 4, 6, 8, 10),\n",
              "                                        'n_estimators': (4, 8, 16, 24, 48, 72,\n",
              "                                                         96, 128)},\n",
              "                   pre_dispatch='2*n_jobs', random_state=None, refit=True,\n",
              "                   return_train_score=False, scoring=None, verbose=0)"
            ]
          },
          "metadata": {
            "tags": []
          },
          "execution_count": 66
        }
      ]
    },
    {
      "cell_type": "code",
      "metadata": {
        "id": "rcBd1L5HiHvX",
        "colab_type": "code",
        "colab": {}
      },
      "source": [
        "#This is the best combination i got from what i propose to try out with a (mse) score of 0.855 which is quite good\n",
        "#grid.best_params_,grid.best_score_\n",
        "#MY BEST PARAMS ARE :n_estimators=128,max_depth=20,min_samples_split=10\n",
        "grid.best_params_"
      ],
      "execution_count": null,
      "outputs": []
    },
    {
      "cell_type": "markdown",
      "metadata": {
        "id": "USPltfKEh8uh",
        "colab_type": "text"
      },
      "source": [
        "**Test our RF on the validation set:**"
      ]
    },
    {
      "cell_type": "code",
      "metadata": {
        "id": "g4DLaAich4wr",
        "colab_type": "code",
        "colab": {}
      },
      "source": [
        "#with the optimal parameters i got let's see how it behaves with the validation set\n",
        "rfr_val=RandomForestRegressor(n_estimators=96, \n",
        "                             criterion='mse', \n",
        "                             max_depth=10, \n",
        "                             min_samples_split=10, \n",
        "                             min_samples_leaf=1, \n",
        "                             min_weight_fraction_leaf=0.0, \n",
        "                             max_features='auto', \n",
        "                             max_leaf_nodes=None, \n",
        "                             min_impurity_decrease=0.0, \n",
        "                             min_impurity_split=None, \n",
        "                             bootstrap=True, \n",
        "                             oob_score=False,\n",
        "                             n_jobs=4, #setting n_jobs to 4 makes sure you're using the full potential of the machine you're running the training on\n",
        "                             random_state=None, \n",
        "                             verbose=0, \n",
        "                             warm_start=False)\n",
        "model_RF_test=rfr_val.fit(X_train,y_train)"
      ],
      "execution_count": 62,
      "outputs": []
    },
    {
      "cell_type": "code",
      "metadata": {
        "id": "PlwL_TnokzS8",
        "colab_type": "code",
        "colab": {}
      },
      "source": [
        "result=model_RF_test.predict(X_train_test)"
      ],
      "execution_count": 63,
      "outputs": []
    },
    {
      "cell_type": "code",
      "metadata": {
        "id": "RaZwT2byk-Zk",
        "colab_type": "code",
        "colab": {
          "base_uri": "https://localhost:8080/",
          "height": 375
        },
        "outputId": "f9ad0310-9c48-43fe-c820-fab5ae03426a"
      },
      "source": [
        "plt.hist(result)"
      ],
      "execution_count": 64,
      "outputs": [
        {
          "output_type": "execute_result",
          "data": {
            "text/plain": [
              "(array([2.50000e+01, 1.00000e+00, 1.92000e+02, 4.12000e+02, 4.89000e+02,\n",
              "        8.38300e+03, 1.09371e+05, 5.86030e+04, 2.25670e+04, 3.39900e+03]),\n",
              " array([6.17849046, 6.46037768, 6.7422649 , 7.02415212, 7.30603933,\n",
              "        7.58792655, 7.86981377, 8.15170099, 8.43358821, 8.71547542,\n",
              "        8.99736264]),\n",
              " <a list of 10 Patch objects>)"
            ]
          },
          "metadata": {
            "tags": []
          },
          "execution_count": 64
        },
        {
          "output_type": "display_data",
          "data": {
            "image/png": "[encoded data removed]",
            "text/plain": [
              "<Figure size 432x288 with 1 Axes>"
            ]
          },
          "metadata": {
            "tags": []
          }
        }
      ]
    },
    {
      "cell_type": "code",
      "metadata": {
        "id": "W1aVrb5gloMV",
        "colab_type": "code",
        "colab": {
          "base_uri": "https://localhost:8080/",
          "height": 35
        },
        "outputId": "56a35aea-9cf3-47da-fca5-26e39c2375ef"
      },
      "source": [
        "mean_squared_error(y_train_test,result)"
      ],
      "execution_count": 65,
      "outputs": [
        {
          "output_type": "execute_result",
          "data": {
            "text/plain": [
              "0.46075121429922067"
            ]
          },
          "metadata": {
            "tags": []
          },
          "execution_count": 65
        }
      ]
    }
  ]
}